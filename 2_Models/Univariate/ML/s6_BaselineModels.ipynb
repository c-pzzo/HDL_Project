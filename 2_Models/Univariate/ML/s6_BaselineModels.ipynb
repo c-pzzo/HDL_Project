{
 "cells": [
  {
   "cell_type": "markdown",
   "id": "a4af12e9",
   "metadata": {},
   "source": [
    "# About\n",
    "Confidently use naive and classical methods like SARIMA and ETS to quickly develop robust baseline models for a range of different time series forecasting problems, the performance of which can be used to challenge whether more elaborate machine learning and deep learning models are adding value."
   ]
  },
  {
   "cell_type": "markdown",
   "id": "96ea03e0",
   "metadata": {},
   "source": [
    "# Test Models\n",
    "Carefully design experiments to test a suite of configurations for standard models and let them run. \n",
    "\n",
    "Each experiment can record results to a file, to allow you to quickly discover the top three to five most skillful configurations from each run. Some common classes of methods that you can design experiments around include the following:\n",
    "\n",
    "1. **Baseline**. Simple forecasting methods such as persistence and averages.\n",
    "2. **Autoregression** The Box-Jenkins process and methods such as SARIMA.\n",
    "3. **Exponential Smoothing** Single, double and triple exponential smoothing methods.\n",
    "4. **Linear Machine Learning** Linear regression methods and variants such as regularization.\n",
    "5. **Nonlinear Machine Learning** kNN, decision trees, support vector regression and more.\n",
    "6. **Ensemble Machine Learning** Random forest, gradient boosting, stacking and more.\n",
    "7. **Deep Learning** MLPs, CNNs, LSTMs, and Hybrid models.\n",
    "\n",
    "VARMA for multivariate time series\n",
    "\n",
    "Order here is important and is structured in increasing complexity from classical to modern methods. "
   ]
  },
  {
   "cell_type": "markdown",
   "id": "1a1b40c6",
   "metadata": {},
   "source": [
    "Three properties of a good technique for making a naive forecast are:"
   ]
  }
 ],
 "metadata": {
  "kernelspec": {
   "display_name": "Python 3 (ipykernel)",
   "language": "python",
   "name": "python3"
  },
  "language_info": {
   "codemirror_mode": {
    "name": "ipython",
    "version": 3
   },
   "file_extension": ".py",
   "mimetype": "text/x-python",
   "name": "python",
   "nbconvert_exporter": "python",
   "pygments_lexer": "ipython3",
   "version": "3.8.12"
  }
 },
 "nbformat": 4,
 "nbformat_minor": 5
}
