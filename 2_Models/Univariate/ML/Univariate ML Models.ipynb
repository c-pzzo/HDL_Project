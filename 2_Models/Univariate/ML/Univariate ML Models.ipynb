{
 "cells": [
  {
   "cell_type": "markdown",
   "id": "de07487c",
   "metadata": {},
   "source": [
    "# About\n",
    "Multivariate ML model training. Single step."
   ]
  },
  {
   "cell_type": "markdown",
   "id": "b389dcaf",
   "metadata": {},
   "source": [
    "# Libraries"
   ]
  },
  {
   "cell_type": "code",
   "execution_count": 1,
   "id": "3603bb31",
   "metadata": {},
   "outputs": [],
   "source": [
    "%run \"/home/cesar/Python_NBs/HDL_Project/HDL_Project/global_fv.ipynb\""
   ]
  },
  {
   "cell_type": "code",
   "execution_count": 2,
   "id": "dfd85f73",
   "metadata": {},
   "outputs": [
    {
     "data": {
      "text/plain": [
       "'/home/cesar/Python_NBs/HDL_Project/HDL_Project/2_Models/Multivariate/ML'"
      ]
     },
     "execution_count": 2,
     "metadata": {},
     "output_type": "execute_result"
    }
   ],
   "source": [
    "import os\n",
    "\n",
    "# Save trained models\n",
    "import joblib\n",
    "\n",
    "# Data\n",
    "from sklearn.model_selection import train_test_split\n",
    "\n",
    "# Nonlinear models\n",
    "from sklearn.neighbors import KNeighborsRegressor\n",
    "from sklearn.tree import DecisionTreeRegressor\n",
    "from sklearn import svm\n",
    "from sklearn.gaussian_process import GaussianProcessRegressor\n",
    "\n",
    "# Ensemble models\n",
    "from sklearn.ensemble import RandomForestRegressor\n",
    "from sklearn.ensemble import BaggingRegressor\n",
    "from sklearn.ensemble import ExtraTreesRegressor\n",
    "from sklearn.ensemble import GradientBoostingRegressor\n",
    "from xgboost import XGBRegressor\n",
    "\n",
    "# Clone of time class\n",
    "s = t\n",
    "\n",
    "os.getcwd()"
   ]
  },
  {
   "cell_type": "markdown",
   "id": "0724979a",
   "metadata": {},
   "source": [
    "# User-Defined Functions"
   ]
  },
  {
   "cell_type": "code",
   "execution_count": 3,
   "id": "fc9f812c",
   "metadata": {},
   "outputs": [],
   "source": [
    "# create a dict of standard models to evaluate {name:object}\n",
    "def define_models():\n",
    "    models=dict()\n",
    "    \n",
    "    # nonlinear models\n",
    "    models['k-Nearest Neighbors'] = KNeighborsRegressor(n_neighbors=7)\n",
    "    models['Classification and Regression Tree'] = DecisionTreeRegressor()\n",
    "    models['Support Vector Regression - Polynomial'] = svm.SVR(kernel='poly')\n",
    "    models['Support Vector Regression - RBF'] = svm.SVR(kernel='rbf')\n",
    "    models['Support Vector Regression - Linear'] = svm.SVR(kernel='linear')\n",
    "    models['Gaussian Naive Bayes'] = GaussianProcessRegressor()\n",
    "\n",
    "    # ensemble models\n",
    "    models['Bagging classifier'] = BaggingRegressor(n_estimators=100)\n",
    "    models['Random Forest'] = RandomForestRegressor(n_estimators=100)\n",
    "    models['Extra-trees classifier'] = ExtraTreesRegressor(n_estimators=100)\n",
    "    models['XG Boost'] = XGBRegressor()\n",
    "\n",
    "    print( 'Defined %d models:' % len(models))\n",
    "    print()\n",
    "    return models"
   ]
  },
  {
   "cell_type": "code",
   "execution_count": 4,
   "id": "1dffbbab",
   "metadata": {},
   "outputs": [],
   "source": [
    "# Evaluate a single model\n",
    "def single_model_evaluation(X_train, y_train, X_test, y_test, name, model):\n",
    "    # fit the model\n",
    "    model.fit(X_train, y_train)\n",
    "    \n",
    "    # Save the trained model\n",
    "    filename = 'trained_ml_models/{}.sav'.format(name)\n",
    "    joblib.dump(model, filename)\n",
    "    \n",
    "    # make predictions\n",
    "    y_prediction = model.predict(X_test)\n",
    "    \n",
    "    metrics = dict()\n",
    "    # evaluate predictions\n",
    "    # accuracy = accuracy_score(y_test, y_prediction) * 100\n",
    "    metrics[\"RMSE\"] = mean_squared_error(y_test, y_prediction, squared=False)\n",
    "    metrics[\"MAE\"] = mean_absolute_error(y_test, y_prediction)\n",
    "    metrics[\"MAPE\"] = mean_absolute_percentage_error(y_test, y_prediction)\n",
    "    metrics[\"R^2\"] = r2_score(y_test, y_prediction)\n",
    "    metrics[\"Max Error\"] = max_error(y_test, y_prediction)    \n",
    "    \n",
    "    return metrics"
   ]
  },
  {
   "cell_type": "code",
   "execution_count": 5,
   "id": "0681d3f8",
   "metadata": {},
   "outputs": [],
   "source": [
    "# Evaluate a dict of models {name:object}, returns {name:score}\n",
    "def multiple_model_evaluation(X_train, y_train, X_test, y_test, models):\n",
    "    metrics_df = pd.DataFrame()\n",
    "    \n",
    "    for name, model in models.items():\n",
    "        # evaluate the model\n",
    "        s.tic()\n",
    "        tmp_df = pd.DataFrame(single_model_evaluation(X_train, y_train, X_test, y_test, name, model), index=[0])\n",
    "        tmp_df.insert(0, \"Model Name\", name, True)\n",
    "        tmp_df.insert(0, \"Type\", \"ML\", True)\n",
    "        metrics_df = metrics_df.append(tmp_df)\n",
    "        print(\"> {}.\".format(name))\n",
    "        s.toc(restart=True)\n",
    "        \n",
    "    return metrics_df.reset_index(drop = True)"
   ]
  },
  {
   "cell_type": "markdown",
   "id": "4f897d7a",
   "metadata": {},
   "source": [
    "# Data"
   ]
  },
  {
   "cell_type": "markdown",
   "id": "11da76ba",
   "metadata": {},
   "source": [
    "## Sample preparation"
   ]
  },
  {
   "cell_type": "code",
   "execution_count": 6,
   "id": "16311ec8",
   "metadata": {},
   "outputs": [],
   "source": [
    "sql_table = \"sima_station_CE\"\n",
    "target = \"pm25\"\n",
    "\n",
    "# Define columns of interest from sql table\n",
    "#     Select all columns:\n",
    "column = \"*\"\n",
    "#     Select specific columns:\n",
    "#column = \"datetime, prs, rainf, rh, sr, tout, wdr, wsr, \" + str(target)\n",
    "\n",
    "# Filter data with WHERE command\n",
    "sql_where = \"where datetime > \\'2020-04-17\\'\"\n",
    "\n",
    "# Initialize class to create multivariate samples:\n",
    "uni_ts = multivariate_samples(sql_table, column, sql_where)\n",
    "\n",
    "# Datasets can't be trained with sample batches by default. So parameter is 1.\n",
    "X, y = uni_ts.samples_creation(1, target)\n",
    "\n",
    "X_train, X_test, y_train, y_test = train_test_split(X[:,0,:], y, test_size = 0.30, shuffle= False)"
   ]
  },
  {
   "cell_type": "markdown",
   "id": "0e1a635f",
   "metadata": {},
   "source": [
    "# Models\n",
    "We can define a list of machine learning models to evaluate on this problem. We will evaluate the models using default configurations. We are not looking for optimal configurations of these models at this point, just a general idea of how well sophisticated models with default configurations perform on this problem. We will evaluate a diverse set of nonlinear and ensemble machine learning algorithms:\n",
    "\n",
    "**Nonlinear Algorithms**:\n",
    "* k-Nearest Neighbors\n",
    "* Classification and Regression Tree\n",
    "* Support Vector Machine\n",
    "* Naive Bayes\n",
    "\n",
    "**Ensemble Algorithms**:\n",
    "* Bagged Decision Trees\n",
    "* Random Forest\n",
    "* Extra Trees\n",
    "* Gradient Boosting Machine"
   ]
  },
  {
   "cell_type": "code",
   "execution_count": 7,
   "id": "9c2f15f5",
   "metadata": {
    "scrolled": false
   },
   "outputs": [
    {
     "name": "stdout",
     "output_type": "stream",
     "text": [
      "Defined 10 models:\n",
      "\n",
      "> k-Nearest Neighbors.\n",
      "Elapsed time is 0.244915 seconds.\n",
      "> Classification and Regression Tree.\n",
      "Elapsed time is 0.108440 seconds.\n",
      "> Support Vector Regression - Polynomial.\n",
      "Elapsed time is 6.713116 seconds.\n",
      "> Support Vector Regression - RBF.\n",
      "Elapsed time is 9.162684 seconds.\n",
      "> Support Vector Regression - Linear.\n",
      "Elapsed time is 490.375557 seconds.\n",
      "> Gaussian Naive Bayes.\n",
      "Elapsed time is 77.791753 seconds.\n",
      "> Bagging classifier.\n",
      "Elapsed time is 7.007687 seconds.\n",
      "> Random Forest.\n",
      "Elapsed time is 6.861038 seconds.\n",
      "> Extra-trees classifier.\n",
      "Elapsed time is 3.188062 seconds.\n",
      "> XG Boost.\n",
      "Elapsed time is 0.683858 seconds.\n",
      "Elapsed time is 0.000314 seconds.\n"
     ]
    },
    {
     "data": {
      "text/html": [
       "<div>\n",
       "<style scoped>\n",
       "    .dataframe tbody tr th:only-of-type {\n",
       "        vertical-align: middle;\n",
       "    }\n",
       "\n",
       "    .dataframe tbody tr th {\n",
       "        vertical-align: top;\n",
       "    }\n",
       "\n",
       "    .dataframe thead th {\n",
       "        text-align: right;\n",
       "    }\n",
       "</style>\n",
       "<table border=\"1\" class=\"dataframe\">\n",
       "  <thead>\n",
       "    <tr style=\"text-align: right;\">\n",
       "      <th></th>\n",
       "      <th>Type</th>\n",
       "      <th>Model Name</th>\n",
       "      <th>RMSE</th>\n",
       "      <th>MAE</th>\n",
       "      <th>MAPE</th>\n",
       "      <th>R^2</th>\n",
       "      <th>Max Error</th>\n",
       "    </tr>\n",
       "  </thead>\n",
       "  <tbody>\n",
       "    <tr>\n",
       "      <th>0</th>\n",
       "      <td>ML</td>\n",
       "      <td>k-Nearest Neighbors</td>\n",
       "      <td>10.929006</td>\n",
       "      <td>7.698453</td>\n",
       "      <td>5.611213e+15</td>\n",
       "      <td>0.520896</td>\n",
       "      <td>63.000000</td>\n",
       "    </tr>\n",
       "    <tr>\n",
       "      <th>1</th>\n",
       "      <td>ML</td>\n",
       "      <td>Classification and Regression Tree</td>\n",
       "      <td>12.911781</td>\n",
       "      <td>8.458937</td>\n",
       "      <td>4.750680e+15</td>\n",
       "      <td>0.331285</td>\n",
       "      <td>97.290000</td>\n",
       "    </tr>\n",
       "    <tr>\n",
       "      <th>2</th>\n",
       "      <td>ML</td>\n",
       "      <td>Support Vector Regression - Polynomial</td>\n",
       "      <td>12.473047</td>\n",
       "      <td>8.751947</td>\n",
       "      <td>6.059212e+15</td>\n",
       "      <td>0.375958</td>\n",
       "      <td>127.327490</td>\n",
       "    </tr>\n",
       "    <tr>\n",
       "      <th>3</th>\n",
       "      <td>ML</td>\n",
       "      <td>Support Vector Regression - RBF</td>\n",
       "      <td>12.256334</td>\n",
       "      <td>8.807903</td>\n",
       "      <td>6.240459e+15</td>\n",
       "      <td>0.397455</td>\n",
       "      <td>87.699156</td>\n",
       "    </tr>\n",
       "    <tr>\n",
       "      <th>4</th>\n",
       "      <td>ML</td>\n",
       "      <td>Support Vector Regression - Linear</td>\n",
       "      <td>12.335551</td>\n",
       "      <td>8.485288</td>\n",
       "      <td>6.093785e+15</td>\n",
       "      <td>0.389640</td>\n",
       "      <td>155.858590</td>\n",
       "    </tr>\n",
       "    <tr>\n",
       "      <th>5</th>\n",
       "      <td>ML</td>\n",
       "      <td>Gaussian Naive Bayes</td>\n",
       "      <td>26.380250</td>\n",
       "      <td>21.148282</td>\n",
       "      <td>7.146538e+13</td>\n",
       "      <td>-1.791428</td>\n",
       "      <td>125.000000</td>\n",
       "    </tr>\n",
       "    <tr>\n",
       "      <th>6</th>\n",
       "      <td>ML</td>\n",
       "      <td>Bagging classifier</td>\n",
       "      <td>9.181792</td>\n",
       "      <td>6.150982</td>\n",
       "      <td>5.182345e+15</td>\n",
       "      <td>0.661839</td>\n",
       "      <td>67.792000</td>\n",
       "    </tr>\n",
       "    <tr>\n",
       "      <th>7</th>\n",
       "      <td>ML</td>\n",
       "      <td>Random Forest</td>\n",
       "      <td>9.170810</td>\n",
       "      <td>6.150157</td>\n",
       "      <td>5.239113e+15</td>\n",
       "      <td>0.662647</td>\n",
       "      <td>65.609700</td>\n",
       "    </tr>\n",
       "    <tr>\n",
       "      <th>8</th>\n",
       "      <td>ML</td>\n",
       "      <td>Extra-trees classifier</td>\n",
       "      <td>8.941312</td>\n",
       "      <td>5.970123</td>\n",
       "      <td>5.138056e+15</td>\n",
       "      <td>0.679321</td>\n",
       "      <td>63.570000</td>\n",
       "    </tr>\n",
       "    <tr>\n",
       "      <th>9</th>\n",
       "      <td>ML</td>\n",
       "      <td>XG Boost</td>\n",
       "      <td>9.562426</td>\n",
       "      <td>6.512986</td>\n",
       "      <td>5.140807e+15</td>\n",
       "      <td>0.633221</td>\n",
       "      <td>69.140689</td>\n",
       "    </tr>\n",
       "  </tbody>\n",
       "</table>\n",
       "</div>"
      ],
      "text/plain": [
       "  Type                              Model Name       RMSE        MAE  \\\n",
       "0   ML                     k-Nearest Neighbors  10.929006   7.698453   \n",
       "1   ML      Classification and Regression Tree  12.911781   8.458937   \n",
       "2   ML  Support Vector Regression - Polynomial  12.473047   8.751947   \n",
       "3   ML         Support Vector Regression - RBF  12.256334   8.807903   \n",
       "4   ML      Support Vector Regression - Linear  12.335551   8.485288   \n",
       "5   ML                    Gaussian Naive Bayes  26.380250  21.148282   \n",
       "6   ML                      Bagging classifier   9.181792   6.150982   \n",
       "7   ML                           Random Forest   9.170810   6.150157   \n",
       "8   ML                  Extra-trees classifier   8.941312   5.970123   \n",
       "9   ML                                XG Boost   9.562426   6.512986   \n",
       "\n",
       "           MAPE       R^2   Max Error  \n",
       "0  5.611213e+15  0.520896   63.000000  \n",
       "1  4.750680e+15  0.331285   97.290000  \n",
       "2  6.059212e+15  0.375958  127.327490  \n",
       "3  6.240459e+15  0.397455   87.699156  \n",
       "4  6.093785e+15  0.389640  155.858590  \n",
       "5  7.146538e+13 -1.791428  125.000000  \n",
       "6  5.182345e+15  0.661839   67.792000  \n",
       "7  5.239113e+15  0.662647   65.609700  \n",
       "8  5.138056e+15  0.679321   63.570000  \n",
       "9  5.140807e+15  0.633221   69.140689  "
      ]
     },
     "execution_count": 7,
     "metadata": {},
     "output_type": "execute_result"
    }
   ],
   "source": [
    "# get model list\n",
    "models = define_models()\n",
    "\n",
    "# evaluate models\n",
    "t.tic() #Start timer\n",
    "results = multiple_model_evaluation(X_train, y_train, X_test, y_test, models)\n",
    "t.toc() #Time elapsed since t.tic()\n",
    "\n",
    "results"
   ]
  },
  {
   "cell_type": "markdown",
   "id": "0c483e11",
   "metadata": {},
   "source": [
    "# Load and test model"
   ]
  },
  {
   "cell_type": "code",
   "execution_count": 8,
   "id": "9effdcba",
   "metadata": {},
   "outputs": [
    {
     "data": {
      "text/plain": [
       "array([18.78787011, 11.35242691, 11.57405153, ..., 23.6963921 ,\n",
       "       19.62281087, 21.48355564])"
      ]
     },
     "execution_count": 8,
     "metadata": {},
     "output_type": "execute_result"
    }
   ],
   "source": [
    "# load the model of interest from disk\n",
    "filename = \"trained_ml_models/Support Vector Regression - Polynomial.sav\"\n",
    "\n",
    "loaded_model = joblib.load(filename)\n",
    "\n",
    "loaded_model.predict(X_test)"
   ]
  },
  {
   "cell_type": "code",
   "execution_count": 9,
   "id": "4c8c70c2",
   "metadata": {},
   "outputs": [
    {
     "data": {
      "text/html": [
       "<div>\n",
       "<style scoped>\n",
       "    .dataframe tbody tr th:only-of-type {\n",
       "        vertical-align: middle;\n",
       "    }\n",
       "\n",
       "    .dataframe tbody tr th {\n",
       "        vertical-align: top;\n",
       "    }\n",
       "\n",
       "    .dataframe thead th {\n",
       "        text-align: right;\n",
       "    }\n",
       "</style>\n",
       "<table border=\"1\" class=\"dataframe\">\n",
       "  <thead>\n",
       "    <tr style=\"text-align: right;\">\n",
       "      <th></th>\n",
       "      <th>Model</th>\n",
       "      <th>RMSE</th>\n",
       "      <th>MAE</th>\n",
       "      <th>MAPE</th>\n",
       "      <th>R^2</th>\n",
       "      <th>Max Error</th>\n",
       "    </tr>\n",
       "  </thead>\n",
       "  <tbody>\n",
       "    <tr>\n",
       "      <th>0</th>\n",
       "      <td>Support Vector Regression - Polynomial.sav</td>\n",
       "      <td>12.473047</td>\n",
       "      <td>8.751947</td>\n",
       "      <td>6.059212e+15</td>\n",
       "      <td>0.375958</td>\n",
       "      <td>127.32749</td>\n",
       "    </tr>\n",
       "  </tbody>\n",
       "</table>\n",
       "</div>"
      ],
      "text/plain": [
       "                                        Model       RMSE       MAE  \\\n",
       "0  Support Vector Regression - Polynomial.sav  12.473047  8.751947   \n",
       "\n",
       "           MAPE       R^2  Max Error  \n",
       "0  6.059212e+15  0.375958  127.32749  "
      ]
     },
     "execution_count": 9,
     "metadata": {},
     "output_type": "execute_result"
    }
   ],
   "source": [
    "tmp_df = pd.DataFrame(single_model_evaluation(X_train, y_train, X_test, y_test, filename[18:], loaded_model), index=[0])\n",
    "tmp_df.insert(0, \"Model\", filename[18:], True)\n",
    "tmp_df"
   ]
  },
  {
   "cell_type": "markdown",
   "id": "fb855b66",
   "metadata": {},
   "source": [
    "# Sources:\n",
    "* https://scikit-learn.org/stable/modules/model_evaluation.html\n",
    "* https://machinelearningmastery.com/save-load-machine-learning-models-python-scikit-learn/\n",
    "    \n",
    "* https://scikit-learn.org/stable/modules/svm.html\n",
    "* https://scikit-learn.org/stable/modules/generated/sklearn.gaussian_process.GaussianProcessRegressor.html    \n",
    "* https://scikit-learn.org/stable/modules/generated/sklearn.ensemble.RandomForestRegressor.html    "
   ]
  }
 ],
 "metadata": {
  "kernelspec": {
   "display_name": "Python 3 (ipykernel)",
   "language": "python",
   "name": "python3"
  },
  "language_info": {
   "codemirror_mode": {
    "name": "ipython",
    "version": 3
   },
   "file_extension": ".py",
   "mimetype": "text/x-python",
   "name": "python",
   "nbconvert_exporter": "python",
   "pygments_lexer": "ipython3",
   "version": "3.8.12"
  }
 },
 "nbformat": 4,
 "nbformat_minor": 5
}
