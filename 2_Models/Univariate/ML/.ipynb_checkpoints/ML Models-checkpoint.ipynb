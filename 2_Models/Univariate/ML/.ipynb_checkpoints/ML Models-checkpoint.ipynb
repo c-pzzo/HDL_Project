{
 "cells": [
  {
   "cell_type": "markdown",
   "id": "de07487c",
   "metadata": {},
   "source": [
    "# About\n",
    "Naive univariate model. "
   ]
  },
  {
   "cell_type": "markdown",
   "id": "b389dcaf",
   "metadata": {},
   "source": [
    "# Libraries"
   ]
  },
  {
   "cell_type": "code",
   "execution_count": 1,
   "id": "3603bb31",
   "metadata": {},
   "outputs": [],
   "source": [
    "%run \"/home/cesar/Python_NBs/HDL_Project/HDL_Project/global_fv.ipynb\""
   ]
  },
  {
   "cell_type": "markdown",
   "id": "4e865c58",
   "metadata": {},
   "source": [
    "# Global parameters"
   ]
  },
  {
   "cell_type": "code",
   "execution_count": null,
   "id": "fc03ee57",
   "metadata": {},
   "outputs": [],
   "source": []
  },
  {
   "cell_type": "markdown",
   "id": "0724979a",
   "metadata": {},
   "source": [
    "# User-Defined Functions"
   ]
  },
  {
   "cell_type": "code",
   "execution_count": 3,
   "id": "6224aa97",
   "metadata": {},
   "outputs": [],
   "source": [
    "sql_table = \"sima_pm25\"\n",
    "column = \"NE\"\n",
    "sql_where = \"where datetime > \\'2021-04-17\\'\"\n",
    "\n",
    "uni_ts = univariate_samples(sql_table, column, sql_where)\n",
    "X, y = uni_ts.samples_creation(24)"
   ]
  },
  {
   "cell_type": "code",
   "execution_count": 6,
   "id": "49566a5c",
   "metadata": {},
   "outputs": [
    {
     "name": "stdout",
     "output_type": "stream",
     "text": [
      "[29.  9.  0. 14.  0.  0.  8.  6.  0. 10. 17. 16. 19. 35. 15. 36. 37. 33.\n",
      " 10.  0. 14.  6. 12. 11.]\n",
      "12.0\n"
     ]
    }
   ],
   "source": [
    "i = 2\n",
    "print(X[i])\n",
    "print(y[i])"
   ]
  },
  {
   "cell_type": "code",
   "execution_count": 5,
   "id": "6696f1c6",
   "metadata": {},
   "outputs": [
    {
     "ename": "NameError",
     "evalue": "name 'tmp' is not defined",
     "output_type": "error",
     "traceback": [
      "\u001b[0;31m---------------------------------------------------------------------------\u001b[0m",
      "\u001b[0;31mNameError\u001b[0m                                 Traceback (most recent call last)",
      "\u001b[0;32m/tmp/ipykernel_24562/3717215199.py\u001b[0m in \u001b[0;36m<module>\u001b[0;34m\u001b[0m\n\u001b[0;32m----> 1\u001b[0;31m \u001b[0mtmp\u001b[0m\u001b[0;34m\u001b[0m\u001b[0;34m\u001b[0m\u001b[0m\n\u001b[0m",
      "\u001b[0;31mNameError\u001b[0m: name 'tmp' is not defined"
     ]
    }
   ],
   "source": [
    "tmp"
   ]
  },
  {
   "cell_type": "markdown",
   "id": "4f897d7a",
   "metadata": {},
   "source": [
    "# Data"
   ]
  },
  {
   "cell_type": "markdown",
   "id": "45ba8dcd",
   "metadata": {},
   "source": [
    "## Data Call and preparation"
   ]
  },
  {
   "cell_type": "code",
   "execution_count": null,
   "id": "d1213933",
   "metadata": {},
   "outputs": [],
   "source": [
    "# define dataset\n",
    "data = [10.0, 20.0, 30.0, 40.0, 50.0, 60.0, 70.0, 80.0, 90.0, 100.0]\n",
    "print(data)"
   ]
  },
  {
   "cell_type": "markdown",
   "id": "11da76ba",
   "metadata": {},
   "source": [
    "## Sample preparation"
   ]
  },
  {
   "cell_type": "code",
   "execution_count": null,
   "id": "bd2885e8",
   "metadata": {},
   "outputs": [],
   "source": []
  },
  {
   "cell_type": "markdown",
   "id": "0e1a635f",
   "metadata": {},
   "source": [
    "# Model"
   ]
  },
  {
   "cell_type": "code",
   "execution_count": null,
   "id": "fc9f812c",
   "metadata": {},
   "outputs": [],
   "source": [
    "# test naive forecast\n",
    "for i in range(1, len(data)+1):\n",
    "    print(naive_forecast(data, i))"
   ]
  },
  {
   "cell_type": "markdown",
   "id": "6d362559",
   "metadata": {},
   "source": [
    "# Validation"
   ]
  },
  {
   "cell_type": "code",
   "execution_count": null,
   "id": "d79d0346",
   "metadata": {},
   "outputs": [],
   "source": []
  }
 ],
 "metadata": {
  "kernelspec": {
   "display_name": "Python 3 (ipykernel)",
   "language": "python",
   "name": "python3"
  },
  "language_info": {
   "codemirror_mode": {
    "name": "ipython",
    "version": 3
   },
   "file_extension": ".py",
   "mimetype": "text/x-python",
   "name": "python",
   "nbconvert_exporter": "python",
   "pygments_lexer": "ipython3",
   "version": "3.8.12"
  }
 },
 "nbformat": 4,
 "nbformat_minor": 5
}
