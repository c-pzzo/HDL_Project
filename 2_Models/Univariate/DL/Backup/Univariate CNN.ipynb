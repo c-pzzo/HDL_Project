{
 "cells": [
  {
   "cell_type": "markdown",
   "id": "6f9dd942",
   "metadata": {},
   "source": [
    "# About\n",
    "Univariate time series are datasets comprised of a single series of observations with a temporal ordering and a model is required to learn from the series of past observations to predict the next value in the sequence.\n",
    "-  The CNN model will learn a function that maps a sequence of past observations as input to an output observation\n",
    "\n",
    "## Note:\n",
    "* The chosen configuration of the models is arbitrary and not optimized for each problem; that was not the goal."
   ]
  },
  {
   "cell_type": "markdown",
   "id": "f49cb4d3",
   "metadata": {},
   "source": [
    "# Libraries"
   ]
  },
  {
   "cell_type": "code",
   "execution_count": 1,
   "id": "15843574",
   "metadata": {},
   "outputs": [],
   "source": [
    "%run \"/home/cesar/Python_NBs/HDL_Project/HDL_Project/global_fv.ipynb\""
   ]
  },
  {
   "cell_type": "code",
   "execution_count": 2,
   "id": "3c2f537e",
   "metadata": {},
   "outputs": [],
   "source": [
    "import mysql.connector"
   ]
  },
  {
   "cell_type": "code",
   "execution_count": 3,
   "id": "b18686c2",
   "metadata": {},
   "outputs": [],
   "source": [
    "import os\n",
    "os.environ['TF_CPP_MIN_LOG_LEVEL'] = '2'\n",
    "\n",
    "from sklearn.model_selection import train_test_split\n",
    "\n",
    "from numpy import array\n",
    "from tensorflow.keras import Sequential\n",
    "from tensorflow.keras.layers import Conv1D, Flatten, Dense\n",
    "from keras.layers.convolutional import MaxPooling1D\n",
    "\n",
    "from sklearn.metrics import mean_squared_error\n",
    "from sklearn.metrics import mean_absolute_error"
   ]
  },
  {
   "cell_type": "markdown",
   "id": "55a33541",
   "metadata": {},
   "source": [
    "# User-Defined Functions"
   ]
  },
  {
   "cell_type": "code",
   "execution_count": 4,
   "id": "1421272a",
   "metadata": {},
   "outputs": [],
   "source": [
    "def split_sequence(sequence, n_steps):\n",
    "    \"\"\"\n",
    "    Transforming a univariate time series into a supervised learning problem.\n",
    "\n",
    "    We can divide a sequence into multiple input/output patterns called samples, where n\n",
    "    time steps are used as input and 1 time step is used as output for the one-step prediction\n",
    "    that is being learned.\n",
    "    \"\"\"\n",
    "    \n",
    "    # Defining variable lists \n",
    "    X, y = list(), list()\n",
    "    \n",
    "    for i in range(len(sequence)):\n",
    "        # find the end of this pattern\n",
    "        end_ix = i + n_steps\n",
    "        \n",
    "        # check if we are beyond the sequence\n",
    "        if end_ix > len(sequence)-1:\n",
    "            break\n",
    "            \n",
    "        # gather input and output parts of the pattern\n",
    "        seq_x, seq_y = sequence[i:end_ix], sequence[end_ix]\n",
    "        X.append(seq_x)\n",
    "        y.append(seq_y)\n",
    "    return array(X), array(y)"
   ]
  },
  {
   "cell_type": "code",
   "execution_count": 5,
   "id": "ad41de9a",
   "metadata": {},
   "outputs": [],
   "source": [
    "def reshaping_1D(X, n_features):\n",
    "    return X.reshape((X.shape[0], X.shape[1], n_features))"
   ]
  },
  {
   "cell_type": "code",
   "execution_count": 6,
   "id": "4261d7a2",
   "metadata": {},
   "outputs": [],
   "source": [
    "def quick_test(model, test_id, X, n_steps, n_features):\n",
    "    x_input = X[test_id]\n",
    "    x_input = x_input.reshape((1, n_steps, n_features))\n",
    "    # yhat\n",
    "    return model.predict(x_input, verbose=0)"
   ]
  },
  {
   "cell_type": "markdown",
   "id": "24a68ce7",
   "metadata": {},
   "source": [
    "# Data"
   ]
  },
  {
   "cell_type": "markdown",
   "id": "0825cddb",
   "metadata": {},
   "source": [
    "## Input data and parameters"
   ]
  },
  {
   "cell_type": "code",
   "execution_count": 7,
   "id": "42638fc7",
   "metadata": {},
   "outputs": [],
   "source": [
    "# ----------------------\n",
    "# ----- Parameters -----\n",
    "# ----------------------\n",
    "# A simple linear input sequence\n",
    "raw_seq = qdata(\"SELECT Monterrey FROM `HDL_PM2d5`\")\n",
    "# choose a number of time steps\n",
    "n_steps = 5\n",
    "# Number of features (Univariate example)\n",
    "n_features = 1"
   ]
  },
  {
   "cell_type": "markdown",
   "id": "2fda0511",
   "metadata": {},
   "source": [
    "## Data preparation"
   ]
  },
  {
   "cell_type": "code",
   "execution_count": 8,
   "id": "23d2a2e9",
   "metadata": {},
   "outputs": [],
   "source": [
    "# ----------------------\n",
    "# ------ Command -------\n",
    "# ----------------------\n",
    "# Splittin data into training samples\n",
    "X, y = split_sequence(raw_seq, n_steps)\n",
    "X_train, X_test, y_train, y_test = train_test_split(X, y, test_size=0.25, random_state=101)\n",
    "\n",
    "# Reshaping X from [samples, timesteps] into [samples, timesteps, features]\n",
    "X_train = reshaping_1D(X_train, n_features)\n",
    "# ----------------------\n",
    "# --- Visualization ----\n",
    "# ----------------------\n",
    "#for i in range(2):\n",
    "#    print(X[i], y[i])"
   ]
  },
  {
   "cell_type": "markdown",
   "id": "3c8c363f",
   "metadata": {},
   "source": [
    "# CNN Model\n",
    "1. A CNN model that has a **convolutional hidden** layer that operates over a 1D sequence.\n",
    "2. This is followed by perhaps a **second convolutional layer** in some cases, such as very long input sequences.\n",
    "3. And then a **pooling layer** whose job it is to distill the output of the convolutional layer to the most salient elements.\n",
    "\n",
    "* Each layer is followed by a dense **fully connected layer** that serves as interpreter to the extracted features by the convolution. \n",
    "* A **flatten layer** is used between the convolutional layers and the dense layer to reduce the feature maps to a single one-dimensional vector."
   ]
  },
  {
   "cell_type": "code",
   "execution_count": 9,
   "id": "a21c2ef8",
   "metadata": {},
   "outputs": [
    {
     "data": {
      "text/plain": [
       "<keras.callbacks.History at 0x7f5cc0619ca0>"
      ]
     },
     "execution_count": 9,
     "metadata": {},
     "output_type": "execute_result"
    }
   ],
   "source": [
    "# ----------------------\n",
    "# ------ Command -------\n",
    "# ----------------------\n",
    "# We can define a 1D CNN Model for univariate time series forecasting as follows:\n",
    "model = Sequential()\n",
    "model.add(Conv1D(64, 2, activation='sigmoid', input_shape=(n_steps, n_features)))\n",
    "model.add(MaxPooling1D())\n",
    "model.add(Flatten())\n",
    "model.add(Dense(50, activation='tanh'))\n",
    "model.add(Dense(1))\n",
    "model.compile(optimizer='adam', loss='mse')\n",
    "\n",
    "# fit model\n",
    "model.fit(X_train, y_train, epochs=1000, verbose=0)"
   ]
  },
  {
   "cell_type": "code",
   "execution_count": 10,
   "id": "e036da82",
   "metadata": {},
   "outputs": [
    {
     "data": {
      "text/plain": [
       "array([[29.46634]], dtype=float32)"
      ]
     },
     "execution_count": 10,
     "metadata": {},
     "output_type": "execute_result"
    }
   ],
   "source": [
    "test_id = 0\n",
    "    \n",
    "quick_test(model, test_id, X_test, n_steps, n_features)    "
   ]
  },
  {
   "cell_type": "markdown",
   "id": "0f3d9a00",
   "metadata": {},
   "source": [
    "# Error Metrics"
   ]
  },
  {
   "cell_type": "code",
   "execution_count": 11,
   "id": "625dbb20",
   "metadata": {},
   "outputs": [],
   "source": [
    "test = model.predict(X_test, verbose=0)"
   ]
  },
  {
   "cell_type": "markdown",
   "id": "3d705c62",
   "metadata": {},
   "source": [
    "## RMSE"
   ]
  },
  {
   "cell_type": "code",
   "execution_count": 12,
   "id": "5b4a695c",
   "metadata": {},
   "outputs": [
    {
     "data": {
      "text/plain": [
       "5.833566038157185"
      ]
     },
     "execution_count": 12,
     "metadata": {},
     "output_type": "execute_result"
    }
   ],
   "source": [
    "mean_squared_error(y_test, test, squared=False)"
   ]
  },
  {
   "cell_type": "markdown",
   "id": "5ca0ebdf",
   "metadata": {},
   "source": [
    "## MAE"
   ]
  },
  {
   "cell_type": "code",
   "execution_count": 13,
   "id": "8a0838ee",
   "metadata": {},
   "outputs": [
    {
     "data": {
      "text/plain": [
       "2.585869125097883"
      ]
     },
     "execution_count": 13,
     "metadata": {},
     "output_type": "execute_result"
    }
   ],
   "source": [
    "mean_absolute_error(y_test, test)"
   ]
  }
 ],
 "metadata": {
  "kernelspec": {
   "display_name": "Python 3 (ipykernel)",
   "language": "python",
   "name": "python3"
  },
  "language_info": {
   "codemirror_mode": {
    "name": "ipython",
    "version": 3
   },
   "file_extension": ".py",
   "mimetype": "text/x-python",
   "name": "python",
   "nbconvert_exporter": "python",
   "pygments_lexer": "ipython3",
   "version": "3.8.12"
  }
 },
 "nbformat": 4,
 "nbformat_minor": 5
}
