{
 "cells": [
  {
   "cell_type": "markdown",
   "id": "6f9dd942",
   "metadata": {},
   "source": [
    "# About\n",
    "Univariate time series are datasets comprised of a single series of observations with a temporal ordering and a model is required to learn from the series of past observations to predict the next value in the sequence.\n",
    "\n",
    "## Note:\n",
    "* The chosen configuration of the models is arbitrary and not optimized for each problem; that was not the goal."
   ]
  },
  {
   "cell_type": "markdown",
   "id": "f49cb4d3",
   "metadata": {},
   "source": [
    "# Libraries"
   ]
  },
  {
   "cell_type": "code",
   "execution_count": 1,
   "id": "b78abda1",
   "metadata": {},
   "outputs": [],
   "source": [
    "%run \"/home/cesar/Python_NBs/HDL_Project/HDL_Project/global_fv.ipynb\""
   ]
  },
  {
   "cell_type": "code",
   "execution_count": 2,
   "id": "b18686c2",
   "metadata": {},
   "outputs": [],
   "source": [
    "import os\n",
    "os.environ['TF_CPP_MIN_LOG_LEVEL'] = '2'\n",
    "\n",
    "import mysql.connector\n",
    "\n",
    "import numpy as np \n",
    "import pandas as pd\n",
    "\n",
    "from sklearn.model_selection import train_test_split\n",
    "\n",
    "from numpy import array\n",
    "from tensorflow.keras import Sequential\n",
    "from tensorflow.keras.layers import LSTM, Dense, Bidirectional\n",
    "\n",
    "from sklearn.metrics import mean_squared_error\n",
    "from sklearn.metrics import mean_absolute_error"
   ]
  },
  {
   "cell_type": "markdown",
   "id": "55a33541",
   "metadata": {},
   "source": [
    "# User-Defined Functions"
   ]
  },
  {
   "cell_type": "code",
   "execution_count": 3,
   "id": "1421272a",
   "metadata": {},
   "outputs": [],
   "source": [
    "def split_sequence(sequence, n_steps):\n",
    "    \"\"\"\n",
    "    Transforming a univariate time series into a supervised learning problem.\n",
    "\n",
    "    We can divide a sequence into multiple input/output patterns called samples, where n\n",
    "    time steps are used as input and 1 time step is used as output for the one-step prediction\n",
    "    that is being learned.\n",
    "    \"\"\"\n",
    "    \n",
    "    # Defining variable lists \n",
    "    X, y = list(), list()\n",
    "    \n",
    "    for i in range(len(sequence)):\n",
    "        # find the end of this pattern\n",
    "        end_ix = i + n_steps\n",
    "        \n",
    "        # check if we are beyond the sequence\n",
    "        if end_ix > len(sequence)-1:\n",
    "            break\n",
    "            \n",
    "        # gather input and output parts of the pattern\n",
    "        seq_x, seq_y = sequence[i:end_ix], sequence[end_ix]\n",
    "        X.append(seq_x)\n",
    "        y.append(seq_y)\n",
    "    return array(X), array(y)"
   ]
  },
  {
   "cell_type": "code",
   "execution_count": 4,
   "id": "364ea0ea",
   "metadata": {},
   "outputs": [],
   "source": [
    "def reshaping_1D(X, n_features):\n",
    "    return X.reshape((X.shape[0], X.shape[1], n_features))"
   ]
  },
  {
   "cell_type": "code",
   "execution_count": 5,
   "id": "b2c93b81",
   "metadata": {},
   "outputs": [],
   "source": [
    "def quick_test(model, test_id, X, n_steps, n_features):\n",
    "    x_input = X[test_id]\n",
    "    x_input = x_input.reshape((1, n_steps, n_features))\n",
    "    # yhat\n",
    "    return model.predict(x_input, verbose=0)"
   ]
  },
  {
   "cell_type": "markdown",
   "id": "24a68ce7",
   "metadata": {},
   "source": [
    "# Data"
   ]
  },
  {
   "cell_type": "markdown",
   "id": "89754312",
   "metadata": {},
   "source": [
    "## Input data and parameters"
   ]
  },
  {
   "cell_type": "code",
   "execution_count": 7,
   "id": "42638fc7",
   "metadata": {},
   "outputs": [],
   "source": [
    "# ----------------------\n",
    "# ----- Parameters -----\n",
    "# ----------------------\n",
    "# A simple linear input sequence\n",
    "raw_seq = qdata(\"SELECT Monterrey FROM `HDL_PM2d5`\")\n",
    "# choose a number of time steps\n",
    "n_steps = 5\n",
    "# Number of features (Univariate example)\n",
    "n_features = 1"
   ]
  },
  {
   "cell_type": "markdown",
   "id": "b90512ee",
   "metadata": {},
   "source": [
    "## Data preparation"
   ]
  },
  {
   "cell_type": "code",
   "execution_count": 8,
   "id": "23d2a2e9",
   "metadata": {},
   "outputs": [],
   "source": [
    "# ----------------------\n",
    "# ------ Command -------\n",
    "# ----------------------\n",
    "# Splittin data into training samples\n",
    "X, y = split_sequence(raw_seq, n_steps)\n",
    "X_train, X_test, y_train, y_test = train_test_split(X, y, test_size=0.25, random_state=101)\n",
    "\n",
    "# Reshaping X from [samples, timesteps] into [samples, timesteps, features]\n",
    "X_train = reshaping_1D(X_train, n_features)\n",
    "# ----------------------\n",
    "# --- Visualization ----\n",
    "# ----------------------\n",
    "#for i in range(2):\n",
    "#    print(X[i], y[i])"
   ]
  },
  {
   "cell_type": "markdown",
   "id": "3c8c363f",
   "metadata": {},
   "source": [
    "# Bi-LSTM training"
   ]
  },
  {
   "cell_type": "code",
   "execution_count": 16,
   "id": "c2f62234",
   "metadata": {},
   "outputs": [
    {
     "data": {
      "text/plain": [
       "<keras.callbacks.History at 0x7fa4bc400e80>"
      ]
     },
     "execution_count": 16,
     "metadata": {},
     "output_type": "execute_result"
    }
   ],
   "source": [
    "# ----------------------\n",
    "# ------ Command -------\n",
    "# ----------------------\n",
    "# We can define a 1D CNN Model for univariate time series forecasting as follows:\n",
    "model = Sequential()\n",
    "model.add(Bidirectional(LSTM(50, activation= 'tanh' ), input_shape=(n_steps, n_features)))\n",
    "model.add(Dense(1))\n",
    "model.compile(optimizer= 'adam' , loss= 'mse' )\n",
    "\n",
    "# fit model\n",
    "model.fit(X_train, y_train, epochs=1000, verbose=0)"
   ]
  },
  {
   "cell_type": "code",
   "execution_count": 17,
   "id": "ca3afe45",
   "metadata": {},
   "outputs": [
    {
     "data": {
      "text/plain": [
       "array([[29.84586]], dtype=float32)"
      ]
     },
     "execution_count": 17,
     "metadata": {},
     "output_type": "execute_result"
    }
   ],
   "source": [
    "test_id = 0\n",
    "    \n",
    "quick_test(model, test_id, X_test, n_steps, n_features)    "
   ]
  },
  {
   "cell_type": "markdown",
   "id": "83a3b9b3",
   "metadata": {},
   "source": [
    "# Error Metrics"
   ]
  },
  {
   "cell_type": "code",
   "execution_count": 18,
   "id": "abbf1497",
   "metadata": {},
   "outputs": [],
   "source": [
    "test = model.predict(X_test, verbose=0)"
   ]
  },
  {
   "cell_type": "markdown",
   "id": "58d187c4",
   "metadata": {},
   "source": [
    "## RMSE"
   ]
  },
  {
   "cell_type": "code",
   "execution_count": 19,
   "id": "13a6c69d",
   "metadata": {},
   "outputs": [
    {
     "data": {
      "text/plain": [
       "5.895223235234297"
      ]
     },
     "execution_count": 19,
     "metadata": {},
     "output_type": "execute_result"
    }
   ],
   "source": [
    "mean_squared_error(y_test, test, squared=False)"
   ]
  },
  {
   "cell_type": "markdown",
   "id": "8c933b29",
   "metadata": {},
   "source": [
    "## MAE"
   ]
  },
  {
   "cell_type": "code",
   "execution_count": 20,
   "id": "2f9b5667",
   "metadata": {},
   "outputs": [
    {
     "data": {
      "text/plain": [
       "2.370067773316069"
      ]
     },
     "execution_count": 20,
     "metadata": {},
     "output_type": "execute_result"
    }
   ],
   "source": [
    "mean_absolute_error(y_test, test)"
   ]
  }
 ],
 "metadata": {
  "kernelspec": {
   "display_name": "Python 3 (ipykernel)",
   "language": "python",
   "name": "python3"
  },
  "language_info": {
   "codemirror_mode": {
    "name": "ipython",
    "version": 3
   },
   "file_extension": ".py",
   "mimetype": "text/x-python",
   "name": "python",
   "nbconvert_exporter": "python",
   "pygments_lexer": "ipython3",
   "version": "3.8.12"
  }
 },
 "nbformat": 4,
 "nbformat_minor": 5
}
