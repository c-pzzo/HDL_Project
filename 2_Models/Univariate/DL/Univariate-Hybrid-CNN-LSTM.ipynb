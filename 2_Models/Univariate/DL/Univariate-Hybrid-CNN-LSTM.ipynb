{
 "cells": [
  {
   "cell_type": "markdown",
   "id": "de07487c",
   "metadata": {},
   "source": [
    "# About\n",
    "Single-step univariate Convolutional Neural Network (CNN)\n",
    "\n",
    "# Univariate Time Series\n",
    "Univariate time series are datasets comprised of a single series of observations with a temporal ordering and a model is required to learn from the series of past observations to predict the next value in the sequence.\n",
    "-  The CNN model will learn a function that maps a sequence of past observations as input to an output observation\n",
    "\n",
    "## Note:\n",
    "* The chosen configuration of the models is arbitrary and not optimized for each problem; that was not the goal.\n",
    "\n",
    "# Univariate Hybrid CNN-LSTM Model"
   ]
  },
  {
   "cell_type": "markdown",
   "id": "e312d3a8",
   "metadata": {},
   "source": [
    "# Global Parameters"
   ]
  },
  {
   "cell_type": "code",
   "execution_count": 1,
   "id": "35480b37",
   "metadata": {},
   "outputs": [],
   "source": [
    "name_prefix = \"Uni-Hybrid-CNN-LSTM\""
   ]
  },
  {
   "cell_type": "markdown",
   "id": "b389dcaf",
   "metadata": {},
   "source": [
    "# Libraries"
   ]
  },
  {
   "cell_type": "code",
   "execution_count": 2,
   "id": "3603bb31",
   "metadata": {},
   "outputs": [],
   "source": [
    "%run \"/home/cesar/Python_NBs/HDL_Project/HDL_Project/global_fv.ipynb\""
   ]
  },
  {
   "cell_type": "code",
   "execution_count": 3,
   "id": "592d08cf",
   "metadata": {},
   "outputs": [],
   "source": [
    "import os\n",
    "import glob\n",
    "os.environ['TF_CPP_MIN_LOG_LEVEL'] = '2'\n",
    "\n",
    "# Data\n",
    "from sklearn.model_selection import train_test_split\n",
    "\n",
    "# DL Model\n",
    "from tensorflow.keras import Sequential\n",
    "from keras.layers.convolutional import Conv1D, MaxPooling1D\n",
    "from keras.layers import LSTM, Flatten, Dense, TimeDistributed\n",
    "\n",
    "# Optimizer\n",
    "from tensorflow.keras.optimizers import Adam\n",
    "\n",
    "# Plotting\n",
    "import matplotlib.pyplot as plt\n",
    "\n",
    "# Early stopping\n",
    "from tensorflow.keras.callbacks import EarlyStopping\n",
    "\n",
    "# Checkpoint\n",
    "from keras.callbacks import ModelCheckpoint"
   ]
  },
  {
   "cell_type": "markdown",
   "id": "0724979a",
   "metadata": {},
   "source": [
    "# User-Defined Functions"
   ]
  },
  {
   "cell_type": "code",
   "execution_count": 4,
   "id": "8904abc8",
   "metadata": {},
   "outputs": [],
   "source": [
    "def design_model(n_steps, lr, n_features = 1):\n",
    "    \"\"\"\n",
    "    n_steps: Number of steps\n",
    "    n_features: Number of features\n",
    "    lr: Learning rate\n",
    "    \"\"\"\n",
    "    # We define a 1D CNN Model for univariate time series forecasting as follows:\n",
    "    model = Sequential(name = \"Univariate-Hybrid-CNN-LSTM\")\n",
    "    \n",
    "    # Number of neurons (nodes) are just about greater than the number of features.\n",
    "    # Rule of thumb is for number of neurons to be about 2/3 of the input    \n",
    "    num_neurons = 64\n",
    "    \n",
    "    # CNN Layer\n",
    "    model = Sequential()\n",
    "    model.add(TimeDistributed(Conv1D(num_neurons, 1, activation= 'relu' ), input_shape=(None, n_steps, n_features)))\n",
    "    model.add(TimeDistributed(MaxPooling1D()))\n",
    "    model.add(TimeDistributed(Flatten()))\n",
    "    model.add(LSTM(50, activation= 'relu' ))\n",
    "    model.add(Dense(1))\n",
    "    model.compile(optimizer= 'adam' , loss= 'mse' )\n",
    "    \n",
    "    # Regularization prevents the learning process to completely fit the model to the training data which can lead to overfitting.\n",
    "    # The most common regularization method is dropout.\n",
    "    #model.add(layers.Dropout(0.1))    \n",
    "    \n",
    "    # Optimizer\n",
    "    opt = Adam(learning_rate=lr)\n",
    "    model.compile(optimizer=opt,  metrics=['mae'], loss= 'mse')\n",
    "    \n",
    "    return model "
   ]
  },
  {
   "cell_type": "code",
   "execution_count": 5,
   "id": "d512b5eb",
   "metadata": {},
   "outputs": [],
   "source": [
    "def fit_model_es_checkpoint(X, y, learning_rate, num_epochs, bs, model):\n",
    "    checkpoint_name = 'Trained_Models/U_Weights_Hybrid-CNN-LSTM_-{val_loss:.5f}--{epoch:03d}.hdf5'\n",
    "    \n",
    "    early_stopping_callback = EarlyStopping(monitor='val_loss', mode='min', verbose=0, patience=15)\n",
    "    checkpoint_callback = ModelCheckpoint(checkpoint_name, monitor='mae', verbose=0, save_best_only=True, mode='min')\n",
    "    history = model.fit(X, y, epochs=num_epochs, batch_size=bs, validation_split = 0.30, verbose = 0, shuffle = False, callbacks=[early_stopping_callback, checkpoint_callback])\n",
    "    return history"
   ]
  },
  {
   "cell_type": "markdown",
   "id": "4f897d7a",
   "metadata": {},
   "source": [
    "# Data"
   ]
  },
  {
   "cell_type": "markdown",
   "id": "77f59a20",
   "metadata": {},
   "source": [
    "##  Parameters"
   ]
  },
  {
   "cell_type": "code",
   "execution_count": 6,
   "id": "d1213933",
   "metadata": {},
   "outputs": [],
   "source": [
    "# SQL commands to retrieve data\n",
    "sql_table = \"sima_pm25\"\n",
    "column = \"NE\"\n",
    "sql_where = \"where datetime >= \\'2020-04-17\\'\"\n",
    "\n",
    "# Percentage of time series dedicated for test split\n",
    "test_partition = 0.3\n",
    "\n",
    "# Number of time steps per sample\n",
    "n_steps = 24"
   ]
  },
  {
   "cell_type": "markdown",
   "id": "45ba8dcd",
   "metadata": {},
   "source": [
    "## Data Preparation"
   ]
  },
  {
   "cell_type": "markdown",
   "id": "11da76ba",
   "metadata": {},
   "source": [
    "## Sample preparation"
   ]
  },
  {
   "cell_type": "code",
   "execution_count": 7,
   "id": "bd2885e8",
   "metadata": {},
   "outputs": [],
   "source": [
    "uni_ts = univariate_samples(sql_table, column, sql_where)\n",
    "X, y = uni_ts.samples_creation(n_steps)\n",
    "\n",
    "X_train, X_test, y_train, y_test = train_test_split(X, y, test_size = test_partition, shuffle= False)"
   ]
  },
  {
   "cell_type": "code",
   "execution_count": 8,
   "id": "2d1a40bb",
   "metadata": {},
   "outputs": [
    {
     "name": "stdout",
     "output_type": "stream",
     "text": [
      "X shape: (63912, 24)\n",
      "y shape: (63912,)\n",
      "\n",
      " shape: (44738, 24)\n",
      "y_train shape: (44738,)\n",
      "\n",
      "X_test shape: (19174, 24)\n",
      "y_test shape: (19174,)\n"
     ]
    }
   ],
   "source": [
    "print(\"X shape: {}\".format(X.shape))\n",
    "print(\"y shape: {}\".format(y.shape))\n",
    "print()\n",
    "print(\" shape: {}\".format(X_train.shape))\n",
    "print(\"y_train shape: {}\".format(y_train.shape))\n",
    "print()\n",
    "print(\"X_test shape: {}\".format(X_test.shape))\n",
    "print(\"y_test shape: {}\".format(y_test.shape))"
   ]
  },
  {
   "cell_type": "markdown",
   "id": "3dd46a63",
   "metadata": {},
   "source": [
    "### Reshaping for hybrid model"
   ]
  },
  {
   "cell_type": "code",
   "execution_count": 9,
   "id": "11ac87a9",
   "metadata": {},
   "outputs": [],
   "source": [
    "# Parameters\n",
    "\n",
    "n_features = 1\n",
    "n_seq = 4\n",
    "n_steps = 6"
   ]
  },
  {
   "cell_type": "code",
   "execution_count": 10,
   "id": "bd0daa39",
   "metadata": {},
   "outputs": [
    {
     "name": "stdout",
     "output_type": "stream",
     "text": [
      "X_train shape: (44738, 4, 6, 1)\n",
      "\n",
      "X_test shape: (19174, 4, 6, 1)\n"
     ]
    }
   ],
   "source": [
    "X_train = X_train.reshape((X_train.shape[0], n_seq, n_steps, n_features))\n",
    "X_test  = X_test.reshape((X_test.shape[0], n_seq, n_steps, n_features))\n",
    "\n",
    "print(\"X_train shape: {}\".format(X_train.shape))\n",
    "print()\n",
    "print(\"X_test shape: {}\".format(X_test.shape))"
   ]
  },
  {
   "cell_type": "markdown",
   "id": "0e1a635f",
   "metadata": {},
   "source": [
    "# Model Definition"
   ]
  },
  {
   "cell_type": "markdown",
   "id": "b207eb8c",
   "metadata": {},
   "source": [
    "## Parameters"
   ]
  },
  {
   "cell_type": "code",
   "execution_count": 11,
   "id": "407677cf",
   "metadata": {},
   "outputs": [],
   "source": [
    "lr = 0.01\n",
    "# Maximum number of epochs\n",
    "num_epochs = 100\n",
    "\n",
    "#fixed number of batches\n",
    "batch_size = 7"
   ]
  },
  {
   "cell_type": "code",
   "execution_count": 12,
   "id": "fc9f812c",
   "metadata": {
    "scrolled": true
   },
   "outputs": [
    {
     "name": "stdout",
     "output_type": "stream",
     "text": [
      "Model: \"sequential\"\n",
      "_________________________________________________________________\n",
      " Layer (type)                Output Shape              Param #   \n",
      "=================================================================\n",
      " time_distributed (TimeDistr  (None, None, 6, 64)      128       \n",
      " ibuted)                                                         \n",
      "                                                                 \n",
      " time_distributed_1 (TimeDis  (None, None, 3, 64)      0         \n",
      " tributed)                                                       \n",
      "                                                                 \n",
      " time_distributed_2 (TimeDis  (None, None, 192)        0         \n",
      " tributed)                                                       \n",
      "                                                                 \n",
      " lstm (LSTM)                 (None, 50)                48600     \n",
      "                                                                 \n",
      " dense (Dense)               (None, 1)                 51        \n",
      "                                                                 \n",
      "=================================================================\n",
      "Total params: 48,779\n",
      "Trainable params: 48,779\n",
      "Non-trainable params: 0\n",
      "_________________________________________________________________\n"
     ]
    }
   ],
   "source": [
    "# Define the model\n",
    "model = design_model(n_steps, lr)\n",
    "model.summary()"
   ]
  },
  {
   "cell_type": "markdown",
   "id": "0c28e233",
   "metadata": {},
   "source": [
    "# Training the model"
   ]
  },
  {
   "cell_type": "code",
   "execution_count": 13,
   "id": "5e448cce",
   "metadata": {
    "scrolled": false
   },
   "outputs": [
    {
     "name": "stdout",
     "output_type": "stream",
     "text": [
      "Elapsed time is 165.675801 seconds.\n"
     ]
    },
    {
     "data": {
      "image/png": "[encoded data removed]",
      "text/plain": [
       "<Figure size 576x360 with 2 Axes>"
      ]
     },
     "metadata": {
      "needs_background": "light"
     },
     "output_type": "display_data"
    },
    {
     "name": "stdout",
     "output_type": "stream",
     "text": [
      "Min training Loss: 66.90505981445312\n",
      "Min validation Loss:  141.36029052734375\n",
      "\n",
      "Final training MAE: 3.0134713649749756\n",
      "Final validation MAE: 7.723959922790527\n"
     ]
    }
   ],
   "source": [
    "# Train\n",
    "#Training with early stopping\n",
    "\n",
    "t.tic() #Start timer\n",
    "history = fit_model_es_checkpoint(X_train, y_train, lr, num_epochs, batch_size, model)\n",
    "t.toc() #Time elapsed since t.tic()\n",
    "\n",
    "# Visualization\n",
    "train_val_plot(history)"
   ]
  },
  {
   "cell_type": "markdown",
   "id": "c530e114",
   "metadata": {},
   "source": [
    "# Testing the model\n",
    "As long as two models share the same architecture you can share weights between them. So, when restoring a model from weights-only, create a model with the same architecture as the original model and then set its weights."
   ]
  },
  {
   "cell_type": "code",
   "execution_count": 14,
   "id": "01239337",
   "metadata": {},
   "outputs": [
    {
     "name": "stdout",
     "output_type": "stream",
     "text": [
      "Model: \"sequential_1\"\n",
      "_________________________________________________________________\n",
      " Layer (type)                Output Shape              Param #   \n",
      "=================================================================\n",
      " time_distributed_3 (TimeDis  (None, None, 6, 64)      128       \n",
      " tributed)                                                       \n",
      "                                                                 \n",
      " time_distributed_4 (TimeDis  (None, None, 3, 64)      0         \n",
      " tributed)                                                       \n",
      "                                                                 \n",
      " time_distributed_5 (TimeDis  (None, None, 192)        0         \n",
      " tributed)                                                       \n",
      "                                                                 \n",
      " lstm_1 (LSTM)               (None, 50)                48600     \n",
      "                                                                 \n",
      " dense_1 (Dense)             (None, 1)                 51        \n",
      "                                                                 \n",
      "=================================================================\n",
      "Total params: 48,779\n",
      "Trainable params: 48,779\n",
      "Non-trainable params: 0\n",
      "_________________________________________________________________\n"
     ]
    }
   ],
   "source": [
    "# Define the model\n",
    "model = design_model(n_steps, lr)\n",
    "model.summary()"
   ]
  },
  {
   "cell_type": "code",
   "execution_count": 15,
   "id": "679c120c",
   "metadata": {},
   "outputs": [],
   "source": [
    "folder_models = \"Trained_Models\"\n",
    "file_path = str(os.getcwd()) + \"/\" + folder_models \n",
    "file_pre = \"/U_Weights_Hybrid-CNN-LSTM*\"\n",
    "\n",
    "weights_files = list(glob.glob(file_path + file_pre))\n",
    "weights_files.sort()\n",
    "\n",
    "weights_files = [f[len(file_path)+1:] for f in weights_files]"
   ]
  },
  {
   "cell_type": "code",
   "execution_count": 16,
   "id": "b8734628",
   "metadata": {},
   "outputs": [
    {
     "name": "stdout",
     "output_type": "stream",
     "text": [
      "Loaded file: U_Weights_Hybrid-CNN-LSTM_-141.36029--001.hdf5\n"
     ]
    }
   ],
   "source": [
    "print(\"Loaded file:\", weights_files[0])\n",
    "\n",
    "# Choosing the best checkpoint (lowest error)\n",
    "weights_file = folder_models + \"/\" + weights_files[0] \n",
    "\n",
    "# Loading it\n",
    "model.load_weights(weights_file) "
   ]
  },
  {
   "cell_type": "code",
   "execution_count": 17,
   "id": "e2a9ca1b",
   "metadata": {},
   "outputs": [
    {
     "data": {
      "text/html": [
       "<div>\n",
       "<style scoped>\n",
       "    .dataframe tbody tr th:only-of-type {\n",
       "        vertical-align: middle;\n",
       "    }\n",
       "\n",
       "    .dataframe tbody tr th {\n",
       "        vertical-align: top;\n",
       "    }\n",
       "\n",
       "    .dataframe thead th {\n",
       "        text-align: right;\n",
       "    }\n",
       "</style>\n",
       "<table border=\"1\" class=\"dataframe\">\n",
       "  <thead>\n",
       "    <tr style=\"text-align: right;\">\n",
       "      <th></th>\n",
       "      <th>Model</th>\n",
       "      <th>RMSE</th>\n",
       "      <th>MAE</th>\n",
       "      <th>MAPE</th>\n",
       "      <th>R^2</th>\n",
       "      <th>Max Error</th>\n",
       "    </tr>\n",
       "  </thead>\n",
       "  <tbody>\n",
       "    <tr>\n",
       "      <th>0</th>\n",
       "      <td>Uni Hybrid CNN LSTM</td>\n",
       "      <td>9.139779</td>\n",
       "      <td>5.338759</td>\n",
       "      <td>1.952534e+15</td>\n",
       "      <td>0.627113</td>\n",
       "      <td>396.067598</td>\n",
       "    </tr>\n",
       "  </tbody>\n",
       "</table>\n",
       "</div>"
      ],
      "text/plain": [
       "                 Model      RMSE       MAE          MAPE       R^2   Max Error\n",
       "0  Uni Hybrid CNN LSTM  9.139779  5.338759  1.952534e+15  0.627113  396.067598"
      ]
     },
     "execution_count": 17,
     "metadata": {},
     "output_type": "execute_result"
    }
   ],
   "source": [
    "tmp_df = pd.DataFrame(testing_evaluation(X_test, y_test, model), index=[0])\n",
    "tmp_df.insert(0, \"Model\", name_prefix.replace(\"-\", \" \"), True)\n",
    "tmp_df"
   ]
  },
  {
   "cell_type": "markdown",
   "id": "6d362559",
   "metadata": {},
   "source": [
    "# Sources\n",
    "* https://www.tensorflow.org/api_docs/python/tf/keras/Model#fit\n",
    "* https://www.tensorflow.org/tutorials/keras/save_and_load"
   ]
  }
 ],
 "metadata": {
  "kernelspec": {
   "display_name": "Python 3 (ipykernel)",
   "language": "python",
   "name": "python3"
  },
  "language_info": {
   "codemirror_mode": {
    "name": "ipython",
    "version": 3
   },
   "file_extension": ".py",
   "mimetype": "text/x-python",
   "name": "python",
   "nbconvert_exporter": "python",
   "pygments_lexer": "ipython3",
   "version": "3.8.12"
  }
 },
 "nbformat": 4,
 "nbformat_minor": 5
}
