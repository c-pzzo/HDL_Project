{
 "cells": [
  {
   "cell_type": "markdown",
   "id": "de07487c",
   "metadata": {},
   "source": [
    "# About\n",
    "Single-step univariate Long-Short term memory (LSTM)\n",
    "\n",
    "# Univariate Time Series\n",
    "Univariate time series are datasets comprised of a single series of observations with a temporal ordering and a model is required to learn from the series of past observations to predict the next value in the sequence.\n",
    "-  The CNN model will learn a function that maps a sequence of past observations as input to an output observation\n",
    "\n",
    "## Note:\n",
    "* The chosen configuration of the models is arbitrary and not optimized for each problem; that was not the goal."
   ]
  },
  {
   "cell_type": "markdown",
   "id": "b389dcaf",
   "metadata": {},
   "source": [
    "# Libraries"
   ]
  },
  {
   "cell_type": "code",
   "execution_count": 1,
   "id": "3603bb31",
   "metadata": {},
   "outputs": [],
   "source": [
    "%run \"/home/cesar/Python_NBs/HDL_Project/HDL_Project/global_fv.ipynb\""
   ]
  },
  {
   "cell_type": "code",
   "execution_count": 16,
   "id": "592d08cf",
   "metadata": {},
   "outputs": [],
   "source": [
    "import os\n",
    "import glob\n",
    "os.environ['TF_CPP_MIN_LOG_LEVEL'] = '2'\n",
    "\n",
    "# Data\n",
    "from sklearn.model_selection import train_test_split\n",
    "\n",
    "# DL Model\n",
    "from tensorflow.keras import Sequential\n",
    "from tensorflow.keras.layers import LSTM, Dense\n",
    "\n",
    "# Optimizer\n",
    "from tensorflow.keras.optimizers import Adam\n",
    "\n",
    "# Plotting\n",
    "import matplotlib.pyplot as plt\n",
    "\n",
    "# Early stopping\n",
    "from tensorflow.keras.callbacks import EarlyStopping\n",
    "\n",
    "# Checkpoint\n",
    "from keras.callbacks import ModelCheckpoint"
   ]
  },
  {
   "cell_type": "markdown",
   "id": "0724979a",
   "metadata": {},
   "source": [
    "# User-Defined Functions"
   ]
  },
  {
   "cell_type": "code",
   "execution_count": 10,
   "id": "8904abc8",
   "metadata": {},
   "outputs": [],
   "source": [
    "def design_model(n_steps, lr, n_features = 1):\n",
    "    \"\"\"\n",
    "    n_steps: Number of steps\n",
    "    n_features: Number of features\n",
    "    lr: Learning rate\n",
    "    \"\"\"\n",
    "    # We define a 1D CNN Model for univariate time series forecasting as follows:\n",
    "    model = Sequential(name = \"LSTM-model\")\n",
    "    \n",
    "    # Number of neurons (nodes) are just about greater than the number of features.\n",
    "    # Rule of thumb is for number of neurons to be about 2/3 of the input    \n",
    "    num_neurons = 8\n",
    "    \n",
    "    # LSTM layer\n",
    "    # model.add(LSTM(num_neurons, input_shape=(n_steps, n_features)))\n",
    "    model.add(LSTM(num_neurons, activation= 'relu' , input_shape=(n_steps, n_features)))\n",
    "    model.add(Dense(num_neurons, activation= 'relu' ))\n",
    "    #model.add(Dense(1))\n",
    "    \n",
    "    # Output layer with one neuron to a model instance (to return one output)\n",
    "    model.add(Dense(1, kernel_initializer='normal',activation='linear'))\n",
    "    # Regularization prevents the learning process to completely fit the model to the training data which can lead to overfitting.\n",
    "    # The most common regularization method is dropout.\n",
    "    #model.add(layers.Dropout(0.1))    \n",
    "    \n",
    "    # Optimizer\n",
    "    opt = Adam(learning_rate=lr)\n",
    "    model.compile(optimizer=opt,  metrics=['mae'], loss= 'mse')\n",
    "    \n",
    "    return model"
   ]
  },
  {
   "cell_type": "code",
   "execution_count": 4,
   "id": "d512b5eb",
   "metadata": {},
   "outputs": [],
   "source": [
    "def fit_model_es_checkpoint(X, y, learning_rate, num_epochs, bs, model):\n",
    "    checkpoint_name = 'Trained_Models/U_Weights_LSTM_-{val_loss:.5f}--{epoch:03d}.hdf5'\n",
    "    \n",
    "    early_stopping_callback = EarlyStopping(monitor='val_loss', mode='min', verbose=0, patience=15)\n",
    "    checkpoint_callback = ModelCheckpoint(checkpoint_name, monitor='mae', verbose=0, save_best_only=True, mode='min')\n",
    "    history = model.fit(X, y, epochs=num_epochs, batch_size=bs, validation_split = 0.30, verbose = 0, shuffle = False, callbacks=[early_stopping_callback, checkpoint_callback])\n",
    "    return history"
   ]
  },
  {
   "cell_type": "markdown",
   "id": "4f897d7a",
   "metadata": {},
   "source": [
    "# Data"
   ]
  },
  {
   "cell_type": "markdown",
   "id": "77f59a20",
   "metadata": {},
   "source": [
    "##  Parameters"
   ]
  },
  {
   "cell_type": "code",
   "execution_count": 5,
   "id": "d1213933",
   "metadata": {},
   "outputs": [],
   "source": [
    "# SQL commands to retrieve data\n",
    "sql_table = \"sima_pm25\"\n",
    "column = \"NE\"\n",
    "sql_where = \"where datetime >= \\'2020-04-17\\'\"\n",
    "\n",
    "# Percentage of time series dedicated for test split\n",
    "test_partition = 0.3\n",
    "\n",
    "# Number of time steps per sample\n",
    "n_steps = 24"
   ]
  },
  {
   "cell_type": "markdown",
   "id": "45ba8dcd",
   "metadata": {},
   "source": [
    "## Data Preparation"
   ]
  },
  {
   "cell_type": "markdown",
   "id": "11da76ba",
   "metadata": {},
   "source": [
    "## Sample preparation"
   ]
  },
  {
   "cell_type": "code",
   "execution_count": 6,
   "id": "bd2885e8",
   "metadata": {},
   "outputs": [],
   "source": [
    "uni_ts = univariate_samples(sql_table, column, sql_where)\n",
    "X, y = uni_ts.samples_creation(n_steps)\n",
    "\n",
    "X_train, X_test, y_train, y_test = train_test_split(X, y, test_size = test_partition, shuffle= False)"
   ]
  },
  {
   "cell_type": "code",
   "execution_count": 7,
   "id": "2d1a40bb",
   "metadata": {},
   "outputs": [
    {
     "name": "stdout",
     "output_type": "stream",
     "text": [
      "X shape: (63912, 24)\n",
      "y shape: (63912,)\n",
      "\n",
      "X_train shape: (44738, 24)\n",
      "y_train shape: (44738,)\n",
      "\n",
      "X_test shape: (19174, 24)\n",
      "y_test shape: (19174,)\n"
     ]
    }
   ],
   "source": [
    "print(\"X shape: {}\".format(X.shape))\n",
    "print(\"y shape: {}\".format(y.shape))\n",
    "print()\n",
    "print(\"X_train shape: {}\".format(X_train.shape))\n",
    "print(\"y_train shape: {}\".format(y_train.shape))\n",
    "print()\n",
    "print(\"X_test shape: {}\".format(X_test.shape))\n",
    "print(\"y_test shape: {}\".format(y_test.shape))"
   ]
  },
  {
   "cell_type": "markdown",
   "id": "0e1a635f",
   "metadata": {},
   "source": [
    "# Model Definition"
   ]
  },
  {
   "cell_type": "markdown",
   "id": "b207eb8c",
   "metadata": {},
   "source": [
    "## Parameters"
   ]
  },
  {
   "cell_type": "code",
   "execution_count": 8,
   "id": "407677cf",
   "metadata": {},
   "outputs": [],
   "source": [
    "lr = 0.01\n",
    "# Maximum number of epochs\n",
    "num_epochs = 100\n",
    "\n",
    "#fixed number of batches\n",
    "batch_size = 7"
   ]
  },
  {
   "cell_type": "code",
   "execution_count": 11,
   "id": "fc9f812c",
   "metadata": {
    "scrolled": true
   },
   "outputs": [
    {
     "name": "stdout",
     "output_type": "stream",
     "text": [
      "Model: \"LSTM-model\"\n",
      "_________________________________________________________________\n",
      " Layer (type)                Output Shape              Param #   \n",
      "=================================================================\n",
      " lstm (LSTM)                 (None, 8)                 320       \n",
      "                                                                 \n",
      " dense (Dense)               (None, 8)                 72        \n",
      "                                                                 \n",
      " dense_1 (Dense)             (None, 1)                 9         \n",
      "                                                                 \n",
      "=================================================================\n",
      "Total params: 401\n",
      "Trainable params: 401\n",
      "Non-trainable params: 0\n",
      "_________________________________________________________________\n"
     ]
    }
   ],
   "source": [
    "# Define the model\n",
    "model = design_model(n_steps, lr)\n",
    "model.summary()"
   ]
  },
  {
   "cell_type": "markdown",
   "id": "0c28e233",
   "metadata": {},
   "source": [
    "# Training the model"
   ]
  },
  {
   "cell_type": "code",
   "execution_count": 12,
   "id": "5e448cce",
   "metadata": {
    "scrolled": false
   },
   "outputs": [
    {
     "name": "stdout",
     "output_type": "stream",
     "text": [
      "Elapsed time is 1174.217562 seconds.\n"
     ]
    },
    {
     "data": {
      "image/png": "[encoded data removed]",
      "text/plain": [
       "<Figure size 576x360 with 2 Axes>"
      ]
     },
     "metadata": {
      "needs_background": "light"
     },
     "output_type": "display_data"
    },
    {
     "name": "stdout",
     "output_type": "stream",
     "text": [
      "Min training Loss: 63.9727783203125\n",
      "Min validation Loss:  147.8449249267578\n",
      "\n",
      "Final training MAE: 2.9641711711883545\n",
      "Final validation MAE: 6.016216278076172\n"
     ]
    }
   ],
   "source": [
    "# Train\n",
    "#Training with early stopping\n",
    "\n",
    "t.tic() #Start timer\n",
    "history = fit_model_es_checkpoint(X_train, y_train, lr, num_epochs, batch_size, model)\n",
    "t.toc() #Time elapsed since t.tic()\n",
    "\n",
    "# Visualization\n",
    "train_val_plot(history)"
   ]
  },
  {
   "cell_type": "code",
   "execution_count": 13,
   "id": "05e1b34e",
   "metadata": {},
   "outputs": [
    {
     "data": {
      "text/plain": [
       "{'loss': [105.39472961425781,\n",
       "  90.3655776977539,\n",
       "  85.46295166015625,\n",
       "  80.3577651977539,\n",
       "  78.01303100585938,\n",
       "  36913213865984.0,\n",
       "  272.8509826660156,\n",
       "  272.1402282714844,\n",
       "  270.02264404296875,\n",
       "  253.67584228515625,\n",
       "  166.4889373779297,\n",
       "  88.53205108642578,\n",
       "  87.06184387207031,\n",
       "  87.36683654785156,\n",
       "  73.99363708496094,\n",
       "  75.625732421875,\n",
       "  71.58110809326172,\n",
       "  70.37779235839844,\n",
       "  72.03549194335938,\n",
       "  77.60961151123047,\n",
       "  67.08809661865234,\n",
       "  67.43745422363281,\n",
       "  69.41197967529297,\n",
       "  90.5276107788086,\n",
       "  86.68135070800781,\n",
       "  83.17606353759766,\n",
       "  73.40818786621094,\n",
       "  63.9727783203125,\n",
       "  64.27919006347656,\n",
       "  64.57527923583984,\n",
       "  64.7231216430664,\n",
       "  64.8331069946289,\n",
       "  64.90170288085938,\n",
       "  64.94960021972656,\n",
       "  64.96691131591797,\n",
       "  65.03509521484375,\n",
       "  70.52449035644531,\n",
       "  71.36590576171875,\n",
       "  64.3590316772461,\n",
       "  64.30791473388672,\n",
       "  64.74000549316406,\n",
       "  65.09691619873047,\n",
       "  66.35628509521484,\n",
       "  66.22177124023438,\n",
       "  65.83822631835938,\n",
       "  65.84333801269531,\n",
       "  65.50526428222656,\n",
       "  65.41923522949219,\n",
       "  66.03909301757812,\n",
       "  66.04788208007812,\n",
       "  66.13212585449219,\n",
       "  65.83698272705078,\n",
       "  66.23603820800781],\n",
       " 'mae': [3.865497350692749,\n",
       "  3.429745674133301,\n",
       "  3.4262850284576416,\n",
       "  3.370406150817871,\n",
       "  3.355485439300537,\n",
       "  100781.1484375,\n",
       "  15.31562328338623,\n",
       "  15.293499946594238,\n",
       "  15.230093002319336,\n",
       "  14.7002534866333,\n",
       "  11.094318389892578,\n",
       "  4.822462558746338,\n",
       "  4.032529830932617,\n",
       "  3.595313549041748,\n",
       "  3.3662893772125244,\n",
       "  3.4106292724609375,\n",
       "  3.243671417236328,\n",
       "  3.1648213863372803,\n",
       "  3.262070417404175,\n",
       "  3.6890652179718018,\n",
       "  3.0915794372558594,\n",
       "  3.0518267154693604,\n",
       "  3.095881700515747,\n",
       "  5.2185869216918945,\n",
       "  3.83441162109375,\n",
       "  3.5621535778045654,\n",
       "  3.352412700653076,\n",
       "  3.0481553077697754,\n",
       "  2.9941365718841553,\n",
       "  2.9784390926361084,\n",
       "  2.9693453311920166,\n",
       "  2.9669106006622314,\n",
       "  2.964444160461426,\n",
       "  2.9611623287200928,\n",
       "  2.9591007232666016,\n",
       "  2.9600067138671875,\n",
       "  3.1336207389831543,\n",
       "  3.3127667903900146,\n",
       "  3.0165395736694336,\n",
       "  2.9869115352630615,\n",
       "  2.966092109680176,\n",
       "  2.9621150493621826,\n",
       "  2.999704599380493,\n",
       "  2.978869676589966,\n",
       "  2.9599719047546387,\n",
       "  2.952404260635376,\n",
       "  2.9468419551849365,\n",
       "  2.9440624713897705,\n",
       "  2.96463680267334,\n",
       "  2.9568142890930176,\n",
       "  2.9644830226898193,\n",
       "  2.956531047821045,\n",
       "  2.9641711711883545],\n",
       " 'val_loss': [360.1795654296875,\n",
       "  288.42803955078125,\n",
       "  382.70343017578125,\n",
       "  279.2733154296875,\n",
       "  322.3515930175781,\n",
       "  430.00714111328125,\n",
       "  430.05145263671875,\n",
       "  429.2523498535156,\n",
       "  429.49774169921875,\n",
       "  437.4390563964844,\n",
       "  509.6123962402344,\n",
       "  498.3924560546875,\n",
       "  458.3747253417969,\n",
       "  298.53253173828125,\n",
       "  260.7178649902344,\n",
       "  262.6386413574219,\n",
       "  205.65284729003906,\n",
       "  191.58291625976562,\n",
       "  201.74293518066406,\n",
       "  227.57382202148438,\n",
       "  190.56741333007812,\n",
       "  190.0758056640625,\n",
       "  219.75753784179688,\n",
       "  355.21533203125,\n",
       "  378.2197570800781,\n",
       "  405.7242736816406,\n",
       "  161.78890991210938,\n",
       "  155.29296875,\n",
       "  153.0514373779297,\n",
       "  153.55255126953125,\n",
       "  154.26953125,\n",
       "  154.80587768554688,\n",
       "  155.51589965820312,\n",
       "  156.32623291015625,\n",
       "  150.0303955078125,\n",
       "  155.91258239746094,\n",
       "  177.75613403320312,\n",
       "  147.8449249267578,\n",
       "  153.404052734375,\n",
       "  149.06114196777344,\n",
       "  149.58880615234375,\n",
       "  158.70071411132812,\n",
       "  171.53282165527344,\n",
       "  168.04660034179688,\n",
       "  164.4397430419922,\n",
       "  168.84869384765625,\n",
       "  171.0074462890625,\n",
       "  173.0373077392578,\n",
       "  184.13743591308594,\n",
       "  184.9677276611328,\n",
       "  173.90655517578125,\n",
       "  173.06588745117188,\n",
       "  175.0808563232422],\n",
       " 'val_mae': [9.428385734558105,\n",
       "  9.058343887329102,\n",
       "  11.644586563110352,\n",
       "  6.230159759521484,\n",
       "  7.269591331481934,\n",
       "  13.68155574798584,\n",
       "  13.677815437316895,\n",
       "  13.661709785461426,\n",
       "  13.692513465881348,\n",
       "  14.083778381347656,\n",
       "  16.589998245239258,\n",
       "  16.129810333251953,\n",
       "  14.77189826965332,\n",
       "  10.27330493927002,\n",
       "  9.766451835632324,\n",
       "  10.194177627563477,\n",
       "  7.791636943817139,\n",
       "  7.269672870635986,\n",
       "  7.194279193878174,\n",
       "  7.509635925292969,\n",
       "  6.7902913093566895,\n",
       "  7.025730609893799,\n",
       "  7.6958818435668945,\n",
       "  9.160638809204102,\n",
       "  11.096309661865234,\n",
       "  12.510601997375488,\n",
       "  7.0688347816467285,\n",
       "  7.549633502960205,\n",
       "  7.432903289794922,\n",
       "  7.351828098297119,\n",
       "  7.2997636795043945,\n",
       "  7.241224765777588,\n",
       "  7.201943874359131,\n",
       "  7.156646251678467,\n",
       "  6.614847183227539,\n",
       "  6.893343925476074,\n",
       "  6.794767379760742,\n",
       "  6.5223774909973145,\n",
       "  7.271093368530273,\n",
       "  7.060168266296387,\n",
       "  6.628776550292969,\n",
       "  6.836103916168213,\n",
       "  6.736057281494141,\n",
       "  6.077541351318359,\n",
       "  6.068140983581543,\n",
       "  6.82177209854126,\n",
       "  6.913017749786377,\n",
       "  7.038702964782715,\n",
       "  7.2401885986328125,\n",
       "  7.220803737640381,\n",
       "  6.114144325256348,\n",
       "  5.708950519561768,\n",
       "  6.016216278076172]}"
      ]
     },
     "execution_count": 13,
     "metadata": {},
     "output_type": "execute_result"
    }
   ],
   "source": [
    "history.history"
   ]
  },
  {
   "cell_type": "markdown",
   "id": "c530e114",
   "metadata": {},
   "source": [
    "# Testing the model\n",
    "As long as two models share the same architecture you can share weights between them. So, when restoring a model from weights-only, create a model with the same architecture as the original model and then set its weights."
   ]
  },
  {
   "cell_type": "code",
   "execution_count": 14,
   "id": "01239337",
   "metadata": {},
   "outputs": [
    {
     "name": "stdout",
     "output_type": "stream",
     "text": [
      "Model: \"LSTM-model\"\n",
      "_________________________________________________________________\n",
      " Layer (type)                Output Shape              Param #   \n",
      "=================================================================\n",
      " lstm_1 (LSTM)               (None, 8)                 320       \n",
      "                                                                 \n",
      " dense_2 (Dense)             (None, 8)                 72        \n",
      "                                                                 \n",
      " dense_3 (Dense)             (None, 1)                 9         \n",
      "                                                                 \n",
      "=================================================================\n",
      "Total params: 401\n",
      "Trainable params: 401\n",
      "Non-trainable params: 0\n",
      "_________________________________________________________________\n"
     ]
    }
   ],
   "source": [
    "# Define the model\n",
    "model = design_model(n_steps, lr)\n",
    "model.summary()"
   ]
  },
  {
   "cell_type": "code",
   "execution_count": 17,
   "id": "60f5449e",
   "metadata": {},
   "outputs": [],
   "source": [
    "folder_models = \"Trained_Models\"\n",
    "file_path = str(os.getcwd()) + \"/\" + folder_models \n",
    "file_pre = \"/U_Weights_LSTM*\"\n",
    "\n",
    "weights_files = list(glob.glob(file_path + file_pre))\n",
    "weights_files.sort()\n",
    "\n",
    "weights_files = [f[len(file_path)+1:] for f in weights_files]"
   ]
  },
  {
   "cell_type": "code",
   "execution_count": 18,
   "id": "b8734628",
   "metadata": {},
   "outputs": [
    {
     "name": "stdout",
     "output_type": "stream",
     "text": [
      "Loaded file: U_Weights_LSTM_-150.03040--035.hdf5\n"
     ]
    }
   ],
   "source": [
    "print(\"Loaded file:\", weights_files[0])\n",
    "\n",
    "# Choosing the best checkpoint (lowest error)\n",
    "weights_file = folder_models + \"/\" + weights_files[0] \n",
    "\n",
    "# Loading it\n",
    "model.load_weights(weights_file) "
   ]
  },
  {
   "cell_type": "code",
   "execution_count": 19,
   "id": "e2a9ca1b",
   "metadata": {},
   "outputs": [
    {
     "data": {
      "text/html": [
       "<div>\n",
       "<style scoped>\n",
       "    .dataframe tbody tr th:only-of-type {\n",
       "        vertical-align: middle;\n",
       "    }\n",
       "\n",
       "    .dataframe tbody tr th {\n",
       "        vertical-align: top;\n",
       "    }\n",
       "\n",
       "    .dataframe thead th {\n",
       "        text-align: right;\n",
       "    }\n",
       "</style>\n",
       "<table border=\"1\" class=\"dataframe\">\n",
       "  <thead>\n",
       "    <tr style=\"text-align: right;\">\n",
       "      <th></th>\n",
       "      <th>Model</th>\n",
       "      <th>RMSE</th>\n",
       "      <th>MAE</th>\n",
       "      <th>MAPE</th>\n",
       "      <th>R^2</th>\n",
       "      <th>Max Error</th>\n",
       "    </tr>\n",
       "  </thead>\n",
       "  <tbody>\n",
       "    <tr>\n",
       "      <th>0</th>\n",
       "      <td>CNN</td>\n",
       "      <td>9.166445</td>\n",
       "      <td>6.115052</td>\n",
       "      <td>1.929317e+15</td>\n",
       "      <td>0.624934</td>\n",
       "      <td>396.362913</td>\n",
       "    </tr>\n",
       "  </tbody>\n",
       "</table>\n",
       "</div>"
      ],
      "text/plain": [
       "  Model      RMSE       MAE          MAPE       R^2   Max Error\n",
       "0   CNN  9.166445  6.115052  1.929317e+15  0.624934  396.362913"
      ]
     },
     "execution_count": 19,
     "metadata": {},
     "output_type": "execute_result"
    }
   ],
   "source": [
    "tmp_df = pd.DataFrame(testing_evaluation(X_test, y_test, model), index=[0])\n",
    "tmp_df.insert(0, \"Model\", \"CNN\", True)\n",
    "tmp_df"
   ]
  },
  {
   "cell_type": "markdown",
   "id": "6d362559",
   "metadata": {},
   "source": [
    "# Sources\n",
    "* https://www.tensorflow.org/api_docs/python/tf/keras/Model#fit\n",
    "* https://www.tensorflow.org/tutorials/keras/save_and_load"
   ]
  }
 ],
 "metadata": {
  "kernelspec": {
   "display_name": "Python 3 (ipykernel)",
   "language": "python",
   "name": "python3"
  },
  "language_info": {
   "codemirror_mode": {
    "name": "ipython",
    "version": 3
   },
   "file_extension": ".py",
   "mimetype": "text/x-python",
   "name": "python",
   "nbconvert_exporter": "python",
   "pygments_lexer": "ipython3",
   "version": "3.8.12"
  }
 },
 "nbformat": 4,
 "nbformat_minor": 5
}
