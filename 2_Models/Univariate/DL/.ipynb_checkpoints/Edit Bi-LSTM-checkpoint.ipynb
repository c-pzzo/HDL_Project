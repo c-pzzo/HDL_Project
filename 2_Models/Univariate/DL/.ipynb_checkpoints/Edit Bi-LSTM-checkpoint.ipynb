{
 "cells": [
  {
   "cell_type": "markdown",
   "id": "de07487c",
   "metadata": {},
   "source": [
    "# About\n",
    "Single-step univariate Bidirectional Long-Short term memory (Bi-LSTM)"
   ]
  },
  {
   "cell_type": "markdown",
   "id": "b389dcaf",
   "metadata": {},
   "source": [
    "# Libraries"
   ]
  },
  {
   "cell_type": "code",
   "execution_count": 1,
   "id": "3603bb31",
   "metadata": {},
   "outputs": [],
   "source": [
    "%run \"/home/cesar/Python_NBs/HDL_Project/HDL_Project/global_fv.ipynb\""
   ]
  },
  {
   "cell_type": "code",
   "execution_count": 2,
   "id": "592d08cf",
   "metadata": {},
   "outputs": [],
   "source": [
    "import os\n",
    "os.environ['TF_CPP_MIN_LOG_LEVEL'] = '2'\n",
    "\n",
    "# Data\n",
    "from sklearn.model_selection import train_test_split\n",
    "\n",
    "# DL Model\n",
    "from tensorflow.keras import Sequential\n",
    "from tensorflow.keras.layers import LSTM, Dense, Bidirectional\n",
    "\n",
    "# Optimizer\n",
    "from tensorflow.keras.optimizers import Adam\n",
    "\n",
    "# Plotting\n",
    "import matplotlib.pyplot as plt\n",
    "\n",
    "# Early stopping\n",
    "from tensorflow.keras.callbacks import EarlyStopping\n",
    "\n",
    "# Checkpoint\n",
    "from keras.callbacks import ModelCheckpoint"
   ]
  },
  {
   "cell_type": "markdown",
   "id": "4e865c58",
   "metadata": {},
   "source": [
    "# Global parameters"
   ]
  },
  {
   "cell_type": "code",
   "execution_count": null,
   "id": "fc03ee57",
   "metadata": {},
   "outputs": [],
   "source": []
  },
  {
   "cell_type": "markdown",
   "id": "0724979a",
   "metadata": {},
   "source": [
    "# User-Defined Functions"
   ]
  },
  {
   "cell_type": "code",
   "execution_count": 3,
   "id": "42f4a55f",
   "metadata": {},
   "outputs": [],
   "source": [
    "def design_model(n_steps, lr, n_features = 1):\n",
    "    \"\"\"\n",
    "    n_steps: Number of steps\n",
    "    n_features: Number of features\n",
    "    lr: Learning rate\n",
    "    \"\"\"\n",
    "    # We can define a 1D CNN Model for univariate time series forecasting as follows:\n",
    "    model = Sequential(name = \"Bidirectional-LSTM-model\")\n",
    "    \n",
    "    # Number of neurons (nodes) are just about greater than the number of features.\n",
    "    # Rule of thumb is for number of neurons to be about 2/3 of the input    \n",
    "    num_neurons = 128 \n",
    "    \n",
    "    # Bidirectional LSTM layer\n",
    "    model.add(Bidirectional(LSTM(num_neurons, activation= 'relu' ), input_shape=(n_steps, n_features)))\n",
    "    \n",
    "    # Output layer with one neuron to a model instance (to return one output)\n",
    "    model.add(Dense(1, kernel_initializer='normal',activation='linear'))\n",
    "    # Regularization prevents the learning process to completely fit the model to the training data which can lead to overfitting.\n",
    "    # The most common regularization method is dropout.\n",
    "    #model.add(layers.Dropout(0.1))    \n",
    "    \n",
    "    # Optimizer\n",
    "    opt = Adam(learning_rate=lr)\n",
    "    model.compile(optimizer=opt,  metrics=['mae'], loss= 'mse')\n",
    "    \n",
    "    return model\n"
   ]
  },
  {
   "cell_type": "code",
   "execution_count": 4,
   "id": "9211fa78",
   "metadata": {},
   "outputs": [],
   "source": [
    "def fit_model_es_checkpoint(X, y, learning_rate, num_epochs, bs, model):\n",
    "    checkpoint_name = 'Trained_Models/U_Weights_CNN_-{val_loss:.5f}--{epoch:03d}.hdf5'\n",
    "    \n",
    "    early_stopping_callback = EarlyStopping(monitor='val_loss', mode='min', verbose=0, patience=15)\n",
    "    checkpoint_callback = ModelCheckpoint(checkpoint_name, monitor='mae', verbose=0, save_best_only=True, mode='min')\n",
    "    history = model.fit(X, y, epochs=num_epochs, batch_size=bs, validation_split = 0.30, verbose = 0, shuffle = False, callbacks=[early_stopping_callback, checkpoint_callback])\n",
    "    return history"
   ]
  },
  {
   "cell_type": "markdown",
   "id": "4f897d7a",
   "metadata": {},
   "source": [
    "# Data"
   ]
  },
  {
   "cell_type": "markdown",
   "id": "77f59a20",
   "metadata": {},
   "source": [
    "##  Parameters"
   ]
  },
  {
   "cell_type": "code",
   "execution_count": 5,
   "id": "d1213933",
   "metadata": {},
   "outputs": [],
   "source": [
    "# SQL commands to retrieve data\n",
    "sql_table = \"sima_pm25\"\n",
    "column = \"NE\"\n",
    "sql_where = \"where datetime >= \\'2021-04-17\\'\"\n",
    "\n",
    "# Percentage of time series dedicated for test split\n",
    "test_partition = 0.3\n",
    "\n",
    "# Number of time steps per sample\n",
    "n_steps = 24"
   ]
  },
  {
   "cell_type": "markdown",
   "id": "45ba8dcd",
   "metadata": {},
   "source": [
    "## Data Preparation"
   ]
  },
  {
   "cell_type": "markdown",
   "id": "11da76ba",
   "metadata": {},
   "source": [
    "## Sample preparation"
   ]
  },
  {
   "cell_type": "code",
   "execution_count": 6,
   "id": "bd2885e8",
   "metadata": {},
   "outputs": [],
   "source": [
    "uni_ts = univariate_samples(sql_table, column, sql_where)\n",
    "X, y = uni_ts.samples_creation(n_steps)\n",
    "\n",
    "sql_table = \"sima_station_CE\"\n",
    "target = \"pm25\"\n",
    "\n",
    "X_train, X_test, y_train, y_test = train_test_split(X, y, test_size = test_partition, shuffle= False)"
   ]
  },
  {
   "cell_type": "code",
   "execution_count": 7,
   "id": "2d1a40bb",
   "metadata": {},
   "outputs": [
    {
     "name": "stdout",
     "output_type": "stream",
     "text": [
      "X shape: (63912, 24)\n",
      "y shape: (63912,)\n",
      "\n",
      "X_train shape: (44738, 24)\n",
      "y_train shape: (44738,)\n",
      "\n",
      "X_test shape: (19174, 24)\n",
      "y_test shape: (19174,)\n"
     ]
    }
   ],
   "source": [
    "print(\"X shape: {}\".format(X.shape))\n",
    "print(\"y shape: {}\".format(y.shape))\n",
    "print()\n",
    "print(\"X_train shape: {}\".format(X_train.shape))\n",
    "print(\"y_train shape: {}\".format(y_train.shape))\n",
    "print()\n",
    "print(\"X_test shape: {}\".format(X_test.shape))\n",
    "print(\"y_test shape: {}\".format(y_test.shape))"
   ]
  },
  {
   "cell_type": "markdown",
   "id": "0e1a635f",
   "metadata": {},
   "source": [
    "# Model"
   ]
  },
  {
   "cell_type": "code",
   "execution_count": 8,
   "id": "9f266a2f",
   "metadata": {},
   "outputs": [],
   "source": [
    "learning_rate = 0.01\n",
    "model = design_model(n_steps, learning_rate)"
   ]
  },
  {
   "cell_type": "code",
   "execution_count": null,
   "id": "fc9f812c",
   "metadata": {},
   "outputs": [],
   "source": [
    "#Training with early stopping\n",
    "\n",
    "# Maximum number of epochs\n",
    "num_epochs = 300\n",
    "\n",
    "#fixed learning rate value\n",
    "learning_rate = 0.01\n",
    "\n",
    "#fixed number of batches\n",
    "batch_size = 4\n",
    "\n",
    "history = fit_model_es_checkpoint(X, y, learning_rate, num_epochs, batch_size, model)\n",
    "          \n",
    "#plotting\n",
    "plt.figure(figsize=(8,5))\n",
    "plt.subplots_adjust(bottom=0.1, top=1.4)\n",
    "plt.tight_layout()\n",
    "\n",
    "# plot learning curves\n",
    "plt.subplot(1, 2, 1)\n",
    "plt.plot(history.history['loss'], label='train')\n",
    "plt.plot(history.history['val_loss'], label='validation')\n",
    "plt.title(\"Loss\")\n",
    "plt.xlabel('Epochs')\n",
    "plt.ylabel('Loss (MSE)')\n",
    "plt.legend(loc=\"upper right\")\n",
    "\n",
    "\n",
    "# plot learning curves\n",
    "plt.subplot(1, 2, 2)\n",
    "plt.plot(history.history['mae'], label='train')\n",
    "plt.plot(history.history['val_mae'], label='validation')\n",
    "plt.title(\"MAE\")\n",
    "plt.ylabel('mae')\n",
    "plt.legend(loc=\"upper right\")\n",
    "\n",
    "plt.show()\n",
    "\n",
    "plt.cla()\n",
    "plt.clf()\n",
    "plt.close('all')\n",
    "\n",
    "print(\"Min training Loss:\", min(history.history[\"loss\"]))\n",
    "print(\"Min validation Loss: \", min(history.history[\"val_loss\"]))\n",
    "print(\"\")\n",
    "print(\"Final training MAE:\", history.history['mae'][-1])\n",
    "print(\"Final validation MAE:\", history.history['val_mae'][-1])"
   ]
  },
  {
   "cell_type": "markdown",
   "id": "6d362559",
   "metadata": {},
   "source": [
    "# Validation"
   ]
  },
  {
   "cell_type": "code",
   "execution_count": null,
   "id": "d79d0346",
   "metadata": {},
   "outputs": [],
   "source": []
  }
 ],
 "metadata": {
  "kernelspec": {
   "display_name": "Python 3 (ipykernel)",
   "language": "python",
   "name": "python3"
  },
  "language_info": {
   "codemirror_mode": {
    "name": "ipython",
    "version": 3
   },
   "file_extension": ".py",
   "mimetype": "text/x-python",
   "name": "python",
   "nbconvert_exporter": "python",
   "pygments_lexer": "ipython3",
   "version": "3.8.12"
  }
 },
 "nbformat": 4,
 "nbformat_minor": 5
}
