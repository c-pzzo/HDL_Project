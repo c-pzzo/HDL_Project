{
 "cells": [
  {
   "cell_type": "markdown",
   "id": "52b1b084",
   "metadata": {},
   "source": [
    "# About\n",
    "[Purpose for this notebook]\n",
    "\n",
    "Bi-LSTMs are a type of RNNs, and as such, have memory which can store temporal information available in time series data. "
   ]
  },
  {
   "cell_type": "markdown",
   "id": "78ee9ffc",
   "metadata": {},
   "source": [
    "# Bidirectional LSTM"
   ]
  },
  {
   "cell_type": "markdown",
   "id": "1922a89a",
   "metadata": {},
   "source": [
    "# Libraries"
   ]
  },
  {
   "cell_type": "code",
   "execution_count": 1,
   "id": "63be94ad",
   "metadata": {},
   "outputs": [],
   "source": [
    "%run \"/home/cesar/Python_NBs/HDL_Project/HDL_Project/global_fv.ipynb\""
   ]
  },
  {
   "cell_type": "code",
   "execution_count": 2,
   "id": "13426876",
   "metadata": {},
   "outputs": [],
   "source": [
    "import os\n",
    "os.environ['TF_CPP_MIN_LOG_LEVEL'] = '2'\n",
    "\n",
    "from keras.models import Sequential\n",
    "\n",
    "# Layers\n",
    "from keras.layers import LSTM, Dense, Bidirectional\n",
    "\n",
    "# Optimizer\n",
    "from tensorflow.keras.optimizers import Adam\n",
    "\n",
    "import matplotlib.pyplot as plt\n",
    "\n",
    "# Early stopping\n",
    "from tensorflow.keras.callbacks import EarlyStopping\n",
    "\n",
    "# Checkpoint\n",
    "from keras.callbacks import ModelCheckpoint"
   ]
  },
  {
   "cell_type": "markdown",
   "id": "1c2cc9f7",
   "metadata": {},
   "source": [
    "# Global Parameters"
   ]
  },
  {
   "cell_type": "code",
   "execution_count": 3,
   "id": "18cf870c",
   "metadata": {},
   "outputs": [],
   "source": [
    "manual_tuning = False"
   ]
  },
  {
   "cell_type": "markdown",
   "id": "836ef767",
   "metadata": {},
   "source": [
    "# User-Defined Functions"
   ]
  },
  {
   "cell_type": "code",
   "execution_count": 4,
   "id": "e6cd7a75",
   "metadata": {},
   "outputs": [],
   "source": [
    "def design_model(n_steps, n_features, lr):\n",
    "    \"\"\"\n",
    "    n_steps: Number of steps\n",
    "    n_features: Number of features\n",
    "    lr: Learning rate\n",
    "    \"\"\"\n",
    "    model = Sequential(name = \"Bidirectional-LSTM-model\")\n",
    "    \n",
    "    # Number of neurons (nodes) are just about greater than the number of features.\n",
    "    # Rule of thumb is for number of neurons to be about 2/3 of the input    \n",
    "    num_neurons = int(np.ceil(n_features *2 /3))\n",
    "    \n",
    "    # It'd be best for the number of neurons to be in the scale of 2^n for computational purposes.\n",
    "    if(False):\n",
    "        while num_neurons > 2**i:\n",
    "            i += 1\n",
    "\n",
    "        num_neurons = 2**i   \n",
    "    \n",
    "    # Bidirectional LSTM layer\n",
    "    model.add(Bidirectional(LSTM(num_neurons, activation= 'relu' ), input_shape=(n_steps, n_features)))\n",
    "    \n",
    "    # Output layer with one neuron to a model instance (to return one output)\n",
    "    model.add(Dense(1, kernel_initializer='normal',activation='linear'))\n",
    "    # Regularization prevents the learning process to completely fit the model to the training data which can lead to overfitting.\n",
    "    # The most common regularization method is dropout.\n",
    "    #model.add(layers.Dropout(0.1))    \n",
    "    \n",
    "    # Optimizer\n",
    "    opt = Adam(learning_rate=lr)\n",
    "    model.compile(optimizer=opt,  metrics=['mae'], loss= 'mse')\n",
    "    \n",
    "    return model"
   ]
  },
  {
   "cell_type": "code",
   "execution_count": 5,
   "id": "58989f9d",
   "metadata": {},
   "outputs": [],
   "source": [
    "def manual_tuning_lr(X, y, learning_rate, num_epochs, bs, model):\n",
    "    y_axis_name = \"Learning rate\"\n",
    "    \n",
    "    #train the model on the training data\n",
    "    history = model.fit(X, y, epochs=num_epochs, batch_size=bs, verbose = 0, validation_split = 0.2)\n",
    "\n",
    "    # plot learning curves\n",
    "    plt.plot(history.history['loss'], label='train')\n",
    "    plt.plot(history.history['val_loss'], label='validation')\n",
    "    plt.title(\"Learning Rate: {}\".format(str(learning_rate)) )\n",
    "    plt.ylabel('Loss')\n",
    "    plt.legend(loc=\"upper right\")    \n",
    "    return history"
   ]
  },
  {
   "cell_type": "code",
   "execution_count": 6,
   "id": "b037f8af",
   "metadata": {},
   "outputs": [],
   "source": [
    "def manual_tuning_batches(X, y, learning_rate, num_epochs, bs, model):\n",
    "    \n",
    "    #train the model on the training data\n",
    "    history = model.fit(X, y, epochs=num_epochs, batch_size = bs, verbose=0, validation_split = 0.2)\n",
    "    \n",
    "    # plot learning curves\n",
    "    plt.plot(history.history['mae'], label='train')\n",
    "    plt.plot(history.history['val_mae'], label='validation')\n",
    "    plt.title('Batches = ' + str(bs))\n",
    "    plt.ylabel('mae')\n",
    "    plt.legend(loc=\"upper right\")\n",
    "    return history"
   ]
  },
  {
   "cell_type": "code",
   "execution_count": 7,
   "id": "09fee2aa",
   "metadata": {},
   "outputs": [],
   "source": [
    "def fit_model_es_checkpoint(X, y, learning_rate, num_epochs, bs, model):\n",
    "    checkpoint_name = 'Trained_Models/U_Weights_-{epoch:03d}--{val_loss:.5f}.hdf5'\n",
    "    \n",
    "    early_stopping_callback = EarlyStopping(monitor='val_loss', mode='min', verbose=0, patience=15)\n",
    "    checkpoint_callback = ModelCheckpoint(checkpoint_name, monitor='mae', verbose=0, save_best_only=True, mode='min')\n",
    "    history = NN_model.fit(X, y, epochs=num_epochs, batch_size=bs, validation_split = 0.20, verbose = 0, callbacks=[early_stopping_callback, checkpoint_callback])\n",
    "    return history"
   ]
  },
  {
   "cell_type": "markdown",
   "id": "bf8adc5b",
   "metadata": {},
   "source": [
    "# Data"
   ]
  },
  {
   "cell_type": "markdown",
   "id": "dd31a6e3",
   "metadata": {},
   "source": [
    "## Parameters"
   ]
  },
  {
   "cell_type": "code",
   "execution_count": 8,
   "id": "0407d916",
   "metadata": {},
   "outputs": [
    {
     "name": "stdout",
     "output_type": "stream",
     "text": [
      "datetime, pm25, tout, wdr, wsr, rh, sr, rainf, prs\n"
     ]
    }
   ],
   "source": [
    "station_number = 'SE'\n",
    "target_name = 'pm25'\n",
    "# Number of time steps per sample\n",
    "n_steps = 24\n",
    "\n",
    "# Meteorological parameters\n",
    "col_names = [i[0] for i in qdata(\"select meteorological_code from cat_meteorological_params\")]\n",
    "\n",
    "# Default neccesary columns\n",
    "cols = \"datetime, \" + target_name\n",
    "\n",
    "# Columns\n",
    "for i in col_names:\n",
    "    cols = cols + \", \" + str(i)\n",
    "\n",
    "print(cols)\n",
    "    \n",
    "# Where filter:\n",
    "where_txt = \"where datetime >= \\'2021-01-01\\'\""
   ]
  },
  {
   "cell_type": "markdown",
   "id": "7d44c04c",
   "metadata": {},
   "source": [
    "## Creating samples"
   ]
  },
  {
   "cell_type": "code",
   "execution_count": 9,
   "id": "493a240c",
   "metadata": {},
   "outputs": [],
   "source": [
    "# Initializing class\n",
    "main_processed_df = multivariate_samples(station_number, cols, where_txt)\n",
    "\n",
    "# Execution of processing functions\n",
    "#initial_df = main_processed_df.initial_df()\n",
    "\n",
    "# Samples numpy.ndarray object \n",
    "X, y = main_processed_df.samples_creation(n_steps, target_name)\n",
    "X = np.asarray(X)\n",
    "y = np.asarray(y)\n",
    "\n",
    "n_features = np.shape(X)[2]"
   ]
  },
  {
   "cell_type": "code",
   "execution_count": 10,
   "id": "b4ee28f5",
   "metadata": {},
   "outputs": [
    {
     "name": "stdout",
     "output_type": "stream",
     "text": [
      "(11305, 24, 7)\n",
      "\n",
      "* The 1st dimension is the number of samples, in this case: 11305\n",
      "* The 2nd dimension is the number of time steps per sample, in this case 24, the value specified to the function.\n",
      "* The 3rd dimension specifies the number of parallel time series —or the number of variables— in this case 7.\n"
     ]
    }
   ],
   "source": [
    "# Understanding the three-dimensional structure of the input samples\n",
    "print(np.shape(X))\n",
    "print()\n",
    "print(\"* The 1st dimension is the number of samples, in this case: {}\".format(np.shape(X)[0])) \n",
    "print(\"* The 2nd dimension is the number of time steps per sample, in this case {}, the value specified to the function.\".format(np.shape(X)[1]))\n",
    "print(\"* The 3rd dimension specifies the number of parallel time series —or the number of variables— in this case {}.\".format(np.shape(X)[2]))\n"
   ]
  },
  {
   "cell_type": "markdown",
   "id": "e3e591e7",
   "metadata": {},
   "source": [
    "# Data model: Bi-LSTM"
   ]
  },
  {
   "cell_type": "code",
   "execution_count": 11,
   "id": "72f16cfd",
   "metadata": {
    "scrolled": true
   },
   "outputs": [
    {
     "name": "stdout",
     "output_type": "stream",
     "text": [
      "Model: \"Bidirectional-LSTM-model\"\n",
      "_________________________________________________________________\n",
      " Layer (type)                Output Shape              Param #   \n",
      "=================================================================\n",
      " bidirectional (Bidirectiona  (None, 10)               520       \n",
      " l)                                                              \n",
      "                                                                 \n",
      " dense (Dense)               (None, 1)                 11        \n",
      "                                                                 \n",
      "=================================================================\n",
      "Total params: 531\n",
      "Trainable params: 531\n",
      "Non-trainable params: 0\n",
      "_________________________________________________________________\n"
     ]
    }
   ],
   "source": [
    "learning_rate = 0.01\n",
    "\n",
    "NN_model = design_model(n_steps, n_features, learning_rate)\n",
    "NN_model.summary()"
   ]
  },
  {
   "cell_type": "code",
   "execution_count": 12,
   "id": "d8621994",
   "metadata": {},
   "outputs": [],
   "source": [
    "#fixed number of epochs\n",
    "num_epochs = 20\n",
    "\n",
    "#fixed number of batches\n",
    "batch_size = 8\n",
    "\n",
    "if manual_tuning == True:\n",
    "    # List of learning rates for  testing\n",
    "    learning_rates = [1, 1E-1, 1E-2, 1E-3, 1E-4, 1E-5]\n",
    "\n",
    "    plt.figure(figsize=(14,12))\n",
    "    plt.ylim([150, 200])\n",
    "    plt.subplots_adjust(bottom=0.1, top=1.4)\n",
    "    plt.tight_layout()\n",
    "\n",
    "    for i in range(len(learning_rates)): \n",
    "        plt.subplot(len(learning_rates), 1, (i+1))\n",
    "        manual_tuning_lr(X, y, learning_rates[i], num_epochs, batch_size, design_model(n_steps, n_features, learning_rate))\n",
    "\n",
    "    plt.show()\n",
    "\n",
    "    plt.cla()\n",
    "    plt.clf()\n",
    "    plt.close('all')"
   ]
  },
  {
   "cell_type": "code",
   "execution_count": 13,
   "id": "b0841795",
   "metadata": {},
   "outputs": [],
   "source": [
    "#fixed number of epochs\n",
    "num_epochs = 20\n",
    "\n",
    "#fixed learning rate value\n",
    "learning_rate = 0.01\n",
    "\n",
    "\n",
    "if manual_tuning == True:\n",
    "    #fixed number of batches\n",
    "    batch_size = [8, 16, 32, 64, 128] \n",
    "    \n",
    "    plt.figure(figsize=(14,12))\n",
    "    plt.subplots_adjust(bottom=0.1, top=1.4)\n",
    "    \n",
    "    for i in range(len(batch_size)): \n",
    "        plt.subplot(len(batch_size), 1, (i+1))\n",
    "        manual_tuning_batches(X, y, learning_rate, num_epochs, batch_size[i], design_model(n_steps, n_features, learning_rate))\n",
    "\n",
    "    #plt.tight_layout()\n",
    "    plt.show()\n",
    "\n",
    "    plt.cla()\n",
    "    plt.clf()\n",
    "    plt.close('all')"
   ]
  },
  {
   "cell_type": "code",
   "execution_count": 14,
   "id": "65a3aaf2",
   "metadata": {
    "scrolled": true
   },
   "outputs": [
    {
     "data": {
      "image/png": "[encoded data removed]",
      "text/plain": [
       "<Figure size 576x360 with 2 Axes>"
      ]
     },
     "metadata": {
      "needs_background": "light"
     },
     "output_type": "display_data"
    },
    {
     "name": "stdout",
     "output_type": "stream",
     "text": [
      "Min training Loss: 160.99978637695312\n",
      "Min validation Loss:  149.68882751464844\n",
      "\n",
      "Final training MAE: 9.273297309875488\n",
      "Final validation MAE: 8.905539512634277\n"
     ]
    }
   ],
   "source": [
    "#Training with early stopping\n",
    "\n",
    "# Maximum number of epochs\n",
    "num_epochs = 300\n",
    "\n",
    "#fixed learning rate value\n",
    "learning_rate = 0.01\n",
    "\n",
    "#fixed number of batches\n",
    "batch_size = 4\n",
    "\n",
    "history = fit_model_es_checkpoint(X, y, learning_rate, num_epochs, batch_size, design_model(n_steps, n_features, learning_rate))\n",
    "          \n",
    "#plotting\n",
    "plt.figure(figsize=(8,5))\n",
    "plt.subplots_adjust(bottom=0.1, top=1.4)\n",
    "plt.tight_layout()\n",
    "\n",
    "# plot learning curves\n",
    "plt.subplot(1, 2, 1)\n",
    "plt.plot(history.history['loss'], label='train')\n",
    "plt.plot(history.history['val_loss'], label='validation')\n",
    "plt.title(\"Loss\")\n",
    "plt.xlabel('Epochs')\n",
    "plt.ylabel('Loss (MSE)')\n",
    "plt.legend(loc=\"upper right\")\n",
    "\n",
    "\n",
    "# plot learning curves\n",
    "plt.subplot(1, 2, 2)\n",
    "plt.plot(history.history['mae'], label='train')\n",
    "plt.plot(history.history['val_mae'], label='validation')\n",
    "plt.title(\"MAE\")\n",
    "plt.ylabel('mae')\n",
    "plt.legend(loc=\"upper right\")\n",
    "\n",
    "plt.show()\n",
    "\n",
    "plt.cla()\n",
    "plt.clf()\n",
    "plt.close('all')\n",
    "\n",
    "print(\"Min training Loss:\", min(history.history[\"loss\"]))\n",
    "print(\"Min validation Loss: \", min(history.history[\"val_loss\"]))\n",
    "print(\"\")\n",
    "print(\"Final training MAE:\", history.history['mae'][-1])\n",
    "print(\"Final validation MAE:\", history.history['val_mae'][-1])"
   ]
  },
  {
   "cell_type": "markdown",
   "id": "14a05eba",
   "metadata": {},
   "source": [
    "# Validation"
   ]
  },
  {
   "cell_type": "code",
   "execution_count": 15,
   "id": "17bc5c15",
   "metadata": {},
   "outputs": [
    {
     "ename": "ValueError",
     "evalue": "cannot reshape array of size 6 into shape (1,24,7)",
     "output_type": "error",
     "traceback": [
      "\u001b[0;31m---------------------------------------------------------------------------\u001b[0m",
      "\u001b[0;31mValueError\u001b[0m                                Traceback (most recent call last)",
      "\u001b[0;32m/tmp/ipykernel_20369/80899098.py\u001b[0m in \u001b[0;36m<module>\u001b[0;34m\u001b[0m\n\u001b[1;32m      1\u001b[0m \u001b[0;31m# demonstrate prediction\u001b[0m\u001b[0;34m\u001b[0m\u001b[0;34m\u001b[0m\u001b[0;34m\u001b[0m\u001b[0m\n\u001b[1;32m      2\u001b[0m \u001b[0mx_input\u001b[0m \u001b[0;34m=\u001b[0m \u001b[0mnp\u001b[0m\u001b[0;34m.\u001b[0m\u001b[0marray\u001b[0m\u001b[0;34m(\u001b[0m\u001b[0;34m[\u001b[0m\u001b[0;34m[\u001b[0m\u001b[0;36m80\u001b[0m\u001b[0;34m,\u001b[0m \u001b[0;36m85\u001b[0m\u001b[0;34m]\u001b[0m\u001b[0;34m,\u001b[0m \u001b[0;34m[\u001b[0m\u001b[0;36m90\u001b[0m\u001b[0;34m,\u001b[0m \u001b[0;36m95\u001b[0m\u001b[0;34m]\u001b[0m\u001b[0;34m,\u001b[0m \u001b[0;34m[\u001b[0m\u001b[0;36m100\u001b[0m\u001b[0;34m,\u001b[0m \u001b[0;36m105\u001b[0m\u001b[0;34m]\u001b[0m\u001b[0;34m]\u001b[0m\u001b[0;34m)\u001b[0m\u001b[0;34m\u001b[0m\u001b[0;34m\u001b[0m\u001b[0m\n\u001b[0;32m----> 3\u001b[0;31m \u001b[0mx_input\u001b[0m \u001b[0;34m=\u001b[0m \u001b[0mx_input\u001b[0m\u001b[0;34m.\u001b[0m\u001b[0mreshape\u001b[0m\u001b[0;34m(\u001b[0m\u001b[0;34m(\u001b[0m\u001b[0;36m1\u001b[0m\u001b[0;34m,\u001b[0m \u001b[0mn_steps\u001b[0m\u001b[0;34m,\u001b[0m \u001b[0mn_features\u001b[0m\u001b[0;34m)\u001b[0m\u001b[0;34m)\u001b[0m\u001b[0;34m\u001b[0m\u001b[0;34m\u001b[0m\u001b[0m\n\u001b[0m\u001b[1;32m      4\u001b[0m \u001b[0myhat\u001b[0m \u001b[0;34m=\u001b[0m \u001b[0mmodel\u001b[0m\u001b[0;34m.\u001b[0m\u001b[0mpredict\u001b[0m\u001b[0;34m(\u001b[0m\u001b[0mx_input\u001b[0m\u001b[0;34m,\u001b[0m \u001b[0mverbose\u001b[0m\u001b[0;34m=\u001b[0m\u001b[0;36m0\u001b[0m\u001b[0;34m)\u001b[0m\u001b[0;34m\u001b[0m\u001b[0;34m\u001b[0m\u001b[0m\n\u001b[1;32m      5\u001b[0m \u001b[0mprint\u001b[0m\u001b[0;34m(\u001b[0m\u001b[0myhat\u001b[0m\u001b[0;34m)\u001b[0m\u001b[0;34m\u001b[0m\u001b[0;34m\u001b[0m\u001b[0m\n",
      "\u001b[0;31mValueError\u001b[0m: cannot reshape array of size 6 into shape (1,24,7)"
     ]
    }
   ],
   "source": [
    "# demonstrate prediction\n",
    "x_input = np.array([[80, 85], [90, 95], [100, 105]])\n",
    "x_input = x_input.reshape((1, n_steps, n_features))\n",
    "yhat = model.predict(x_input, verbose=0)\n",
    "print(yhat)"
   ]
  },
  {
   "cell_type": "code",
   "execution_count": null,
   "id": "0aa75e73",
   "metadata": {},
   "outputs": [],
   "source": []
  },
  {
   "cell_type": "code",
   "execution_count": null,
   "id": "0563b701",
   "metadata": {},
   "outputs": [],
   "source": []
  },
  {
   "cell_type": "code",
   "execution_count": null,
   "id": "4d58361f",
   "metadata": {},
   "outputs": [],
   "source": []
  },
  {
   "cell_type": "markdown",
   "id": "d139be88",
   "metadata": {},
   "source": [
    "# Test Example"
   ]
  },
  {
   "cell_type": "markdown",
   "id": "59b165b0",
   "metadata": {},
   "source": [
    "## Libraries"
   ]
  },
  {
   "cell_type": "code",
   "execution_count": null,
   "id": "c82c3024",
   "metadata": {},
   "outputs": [],
   "source": [
    "# multivariate lstm example\n",
    "from numpy import array\n",
    "from numpy import hstack"
   ]
  },
  {
   "cell_type": "markdown",
   "id": "96ed326b",
   "metadata": {},
   "source": [
    "## UDF"
   ]
  },
  {
   "cell_type": "code",
   "execution_count": null,
   "id": "8c835ae2",
   "metadata": {},
   "outputs": [],
   "source": [
    "# split a multivariate sequence into samples\n",
    "def split_sequences(sequences, n_steps):\n",
    "    X, y = list(), list()\n",
    "    for i in range(len(sequences)):\n",
    "        # find the end of this pattern\n",
    "        end_ix = i + n_steps\n",
    "        # check if we are beyond the dataset\n",
    "        if end_ix > len(sequences):\n",
    "            break\n",
    "        # gather input and output parts of the pattern\n",
    "        seq_x, seq_y = sequences[i:end_ix, :-1], sequences[end_ix-1, -1]\n",
    "        X.append(seq_x)\n",
    "        y.append(seq_y)\n",
    "    return array(X), array(y)"
   ]
  },
  {
   "cell_type": "markdown",
   "id": "667f9781",
   "metadata": {},
   "source": [
    "## Data"
   ]
  },
  {
   "cell_type": "markdown",
   "id": "c2e51ccb",
   "metadata": {},
   "source": [
    "### Raw Dummy Data"
   ]
  },
  {
   "cell_type": "code",
   "execution_count": null,
   "id": "520ea826",
   "metadata": {},
   "outputs": [],
   "source": [
    "# define input sequence\n",
    "in_seq1 = array([10, 20, 30, 40, 50, 60, 70, 80, 90])\n",
    "in_seq2 = array([15, 25, 35, 45, 55, 65, 75, 85, 95])\n",
    "out_seq = array([in_seq1[i]+in_seq2[i] for i in range(len(in_seq1))])\n",
    "# convert to [rows, columns] structure\n",
    "in_seq1 = in_seq1.reshape((len(in_seq1), 1))\n",
    "in_seq2 = in_seq2.reshape((len(in_seq2), 1))\n",
    "out_seq = out_seq.reshape((len(out_seq), 1))\n",
    "# horizontally stack columns\n",
    "dataset = hstack((in_seq1, in_seq2, out_seq))\n",
    "dataset"
   ]
  },
  {
   "cell_type": "markdown",
   "id": "48bd1e6e",
   "metadata": {},
   "source": [
    "### Parameters"
   ]
  },
  {
   "cell_type": "code",
   "execution_count": null,
   "id": "3b5983bf",
   "metadata": {},
   "outputs": [],
   "source": [
    "# choose a number of time steps\n",
    "n_steps = 3"
   ]
  },
  {
   "cell_type": "markdown",
   "id": "69fc3c59",
   "metadata": {},
   "source": [
    "### Samples"
   ]
  },
  {
   "cell_type": "code",
   "execution_count": null,
   "id": "ca77bcf9",
   "metadata": {},
   "outputs": [],
   "source": [
    "# convert into input/output\n",
    "X, y = split_sequences(dataset, n_steps)\n",
    "X = np.asarray(X)\n",
    "y = np.asarray(y)\n",
    "\n",
    "# the dataset knows the number of features, e.g. 2\n",
    "n_features = X.shape[2]\n",
    "print(np.shape(X))"
   ]
  },
  {
   "cell_type": "code",
   "execution_count": null,
   "id": "59aca75f",
   "metadata": {},
   "outputs": [],
   "source": [
    "model = Sequential()\n",
    "model.add(Bidirectional(LSTM(50, activation= 'relu' ), input_shape=(n_steps, n_features)))\n",
    "model.add(Dense(1))\n",
    "model.compile(optimizer= 'adam' , loss= 'mse')"
   ]
  },
  {
   "cell_type": "code",
   "execution_count": null,
   "id": "41a03a49",
   "metadata": {
    "scrolled": true
   },
   "outputs": [],
   "source": [
    "model.fit(X, y, epochs=200, verbose=0)"
   ]
  },
  {
   "cell_type": "code",
   "execution_count": null,
   "id": "07dd52e8",
   "metadata": {},
   "outputs": [],
   "source": [
    "# demonstrate prediction\n",
    "x_input = array([[80, 85], [90, 95], [100, 105]])\n",
    "x_input = x_input.reshape((1, n_steps, 2))\n",
    "yhat = model.predict(x_input, verbose=0)\n",
    "print(yhat)"
   ]
  }
 ],
 "metadata": {
  "kernelspec": {
   "display_name": "Python 3 (ipykernel)",
   "language": "python",
   "name": "python3"
  },
  "language_info": {
   "codemirror_mode": {
    "name": "ipython",
    "version": 3
   },
   "file_extension": ".py",
   "mimetype": "text/x-python",
   "name": "python",
   "nbconvert_exporter": "python",
   "pygments_lexer": "ipython3",
   "version": "3.8.12"
  }
 },
 "nbformat": 4,
 "nbformat_minor": 5
}
