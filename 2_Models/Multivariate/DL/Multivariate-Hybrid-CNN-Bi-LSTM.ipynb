{
 "cells": [
  {
   "cell_type": "markdown",
   "id": "de07487c",
   "metadata": {},
   "source": [
    "# About\n",
    "Single-step univariate Convolutional Neural Network (CNN)\n",
    "\n",
    "# Univariate Time Series\n",
    "Univariate time series are datasets comprised of a single series of observations with a temporal ordering and a model is required to learn from the series of past observations to predict the next value in the sequence.\n",
    "-  The CNN model will learn a function that maps a sequence of past observations as input to an output observation\n",
    "\n",
    "## Note:\n",
    "* The chosen configuration of the models is arbitrary and not optimized for each problem; that was not the goal.\n",
    "\n",
    "# Multivariate Hybrid CNN-Bi-LSTM Model"
   ]
  },
  {
   "cell_type": "markdown",
   "id": "e312d3a8",
   "metadata": {},
   "source": [
    "# Global Parameters"
   ]
  },
  {
   "cell_type": "code",
   "execution_count": 1,
   "id": "35480b37",
   "metadata": {},
   "outputs": [],
   "source": [
    "name_prefix = \"Multi-Hybrid-CNN-Bi-LSTM\""
   ]
  },
  {
   "cell_type": "markdown",
   "id": "b389dcaf",
   "metadata": {},
   "source": [
    "# Libraries"
   ]
  },
  {
   "cell_type": "code",
   "execution_count": 2,
   "id": "3603bb31",
   "metadata": {},
   "outputs": [],
   "source": [
    "%run \"/home/cesar/Python_NBs/HDL_Project/HDL_Project/global_fv.ipynb\""
   ]
  },
  {
   "cell_type": "code",
   "execution_count": 3,
   "id": "592d08cf",
   "metadata": {},
   "outputs": [],
   "source": [
    "import os\n",
    "import glob\n",
    "os.environ['TF_CPP_MIN_LOG_LEVEL'] = '2'\n",
    "\n",
    "# Data\n",
    "from sklearn.model_selection import train_test_split\n",
    "\n",
    "# DL Model\n",
    "from tensorflow.keras import Sequential\n",
    "from keras.layers.convolutional import Conv1D, MaxPooling1D\n",
    "from keras.layers import Bidirectional, LSTM, Flatten, Dense, TimeDistributed\n",
    "\n",
    "# Optimizer\n",
    "from tensorflow.keras.optimizers import Adam\n",
    "\n",
    "# Plotting\n",
    "import matplotlib.pyplot as plt\n",
    "\n",
    "# Early stopping\n",
    "from tensorflow.keras.callbacks import EarlyStopping\n",
    "\n",
    "# Checkpoint\n",
    "from keras.callbacks import ModelCheckpoint"
   ]
  },
  {
   "cell_type": "markdown",
   "id": "0724979a",
   "metadata": {},
   "source": [
    "# User-Defined Functions"
   ]
  },
  {
   "cell_type": "code",
   "execution_count": 4,
   "id": "8904abc8",
   "metadata": {},
   "outputs": [],
   "source": [
    "def design_model(n_steps, lr, n_features):\n",
    "    \"\"\"\n",
    "    n_steps: Number of steps\n",
    "    n_features: Number of features\n",
    "    lr: Learning rate\n",
    "    \"\"\"\n",
    "    # We define a 1D CNN Model for univariate time series forecasting as follows:\n",
    "    model = Sequential(name = \"Multivariate-Hybrid-CNN-Bi-LSTM\")\n",
    "    \n",
    "    # Number of neurons (nodes) are just about greater than the number of features.\n",
    "    # Rule of thumb is for number of neurons to be about 2/3 of the input    \n",
    "    num_neurons = 16\n",
    "    \n",
    "\n",
    "    model = Sequential()\n",
    "    model.add(TimeDistributed(Conv1D(num_neurons, 2, activation= 'relu' ), input_shape=(None, n_steps, n_features)))\n",
    "    model.add(TimeDistributed(MaxPooling1D(pool_size=2)))\n",
    "    model.add(TimeDistributed(Flatten()))\n",
    "    model.add(Bidirectional(LSTM(num_neurons, activation= 'relu' ), input_shape=(n_steps, n_features)))\n",
    "    model.add(Dense(1))\n",
    "    model.compile(optimizer= 'adam' , loss= 'mse' )\n",
    "    \n",
    "    # Regularization prevents the learning process to completely fit the model to the training data which can lead to overfitting.\n",
    "    # The most common regularization method is dropout.\n",
    "    #model.add(layers.Dropout(0.1))    \n",
    "    \n",
    "    # Optimizer\n",
    "    opt = Adam(learning_rate=lr)\n",
    "    model.compile(optimizer=opt,  metrics=['mae'], loss= 'mse')\n",
    "    \n",
    "    return model"
   ]
  },
  {
   "cell_type": "code",
   "execution_count": 5,
   "id": "d512b5eb",
   "metadata": {},
   "outputs": [],
   "source": [
    "def fit_model_es_checkpoint(X, y, learning_rate, num_epochs, bs, model):\n",
    "    checkpoint_name = 'Trained_Models/U_Weights_Multi-Hybrid-CNN-LSTM_-{val_loss:.5f}--{epoch:03d}.hdf5'\n",
    "    \n",
    "    early_stopping_callback = EarlyStopping(monitor='val_loss', mode='min', verbose=0, patience=45)\n",
    "    checkpoint_callback = ModelCheckpoint(checkpoint_name, monitor='mae', verbose=0, save_best_only=True, mode='min')\n",
    "    history = model.fit(X, y, epochs=num_epochs, batch_size=bs, validation_split = 0.25, verbose = 0, shuffle = False, callbacks=[early_stopping_callback, checkpoint_callback])\n",
    "    return history"
   ]
  },
  {
   "cell_type": "markdown",
   "id": "4f897d7a",
   "metadata": {},
   "source": [
    "# Data"
   ]
  },
  {
   "cell_type": "markdown",
   "id": "77f59a20",
   "metadata": {},
   "source": [
    "##  Parameters"
   ]
  },
  {
   "cell_type": "code",
   "execution_count": 6,
   "id": "d1213933",
   "metadata": {},
   "outputs": [],
   "source": [
    "sql_table = \"sima_station_CE\"\n",
    "target = \"pm25\"\n",
    "\n",
    "# Define columns of interest from sql table\n",
    "#     Select all columns:\n",
    "column = \"*\"\n",
    "#     Select specific columns:\n",
    "#column = \"datetime, prs, rainf, rh, sr, tout, wdr, wsr, \" + str(target)\n",
    "\n",
    "# Filter data with WHERE command\n",
    "sql_where = \"where datetime >= \\'2021-03-01\\'\"\n",
    "\n",
    "# Number of time steps per sample\n",
    "n_steps = 24"
   ]
  },
  {
   "cell_type": "markdown",
   "id": "45ba8dcd",
   "metadata": {},
   "source": [
    "## Data Preparation"
   ]
  },
  {
   "cell_type": "markdown",
   "id": "11da76ba",
   "metadata": {},
   "source": [
    "## Sample preparation"
   ]
  },
  {
   "cell_type": "code",
   "execution_count": 7,
   "id": "bd2885e8",
   "metadata": {},
   "outputs": [
    {
     "name": "stdout",
     "output_type": "stream",
     "text": [
      "(9889, 24, 13)\n",
      "\n",
      "* The 1st dimension is the number of samples, in this case: 9889\n",
      "* The 2nd dimension is the number of time steps per sample, in this case 24, the value specified to the function.\n",
      "* The 3rd dimension specifies the number of parallel time series —or the number of variables— in this case 13.\n"
     ]
    }
   ],
   "source": [
    "# Initialize class to create multivariate samples:\n",
    "multi_ts = multivariate_samples(sql_table, target, column, sql_where)\n",
    "\n",
    "X, y = multi_ts.samples_creation(n_steps, target)\n",
    "X = np.asarray(X)\n",
    "y = np.asarray(y)\n",
    "\n",
    "# Understanding the three-dimensional structure of the input samples\n",
    "print(np.shape(X))\n",
    "print()\n",
    "print(\"* The 1st dimension is the number of samples, in this case: {}\".format(np.shape(X)[0])) \n",
    "print(\"* The 2nd dimension is the number of time steps per sample, in this case {}, the value specified to the function.\".format(np.shape(X)[1]))\n",
    "print(\"* The 3rd dimension specifies the number of parallel time series —or the number of variables— in this case {}.\".format(np.shape(X)[2]))"
   ]
  },
  {
   "cell_type": "code",
   "execution_count": 8,
   "id": "2d1a40bb",
   "metadata": {},
   "outputs": [],
   "source": [
    "# Number of features\n",
    "n_features = np.shape(X)[2]"
   ]
  },
  {
   "cell_type": "code",
   "execution_count": 9,
   "id": "237e1216",
   "metadata": {},
   "outputs": [],
   "source": [
    "X_train, X_test, y_train, y_test = train_test_split(X, y, test_size = 0.30, shuffle= False)"
   ]
  },
  {
   "cell_type": "markdown",
   "id": "3dd46a63",
   "metadata": {},
   "source": [
    "### Reshaping for hybrid model"
   ]
  },
  {
   "cell_type": "code",
   "execution_count": 10,
   "id": "11ac87a9",
   "metadata": {},
   "outputs": [],
   "source": [
    "# Parameters\n",
    "\n",
    "n_features = np.shape(X)[2]\n",
    "n_seq = 4\n",
    "n_steps = 6"
   ]
  },
  {
   "cell_type": "code",
   "execution_count": 11,
   "id": "bd0daa39",
   "metadata": {},
   "outputs": [
    {
     "name": "stdout",
     "output_type": "stream",
     "text": [
      "X_train shape: (6922, 4, 6, 13)\n",
      "\n",
      "X_test shape: (2967, 4, 6, 13)\n"
     ]
    }
   ],
   "source": [
    "X_train = X_train.reshape((X_train.shape[0], n_seq, n_steps, n_features))\n",
    "X_test  = X_test.reshape((X_test.shape[0], n_seq, n_steps, n_features))\n",
    "\n",
    "print(\"X_train shape: {}\".format(X_train.shape))\n",
    "print()\n",
    "print(\"X_test shape: {}\".format(X_test.shape))"
   ]
  },
  {
   "cell_type": "markdown",
   "id": "0e1a635f",
   "metadata": {},
   "source": [
    "# Model Definition"
   ]
  },
  {
   "cell_type": "markdown",
   "id": "b207eb8c",
   "metadata": {},
   "source": [
    "## Parameters"
   ]
  },
  {
   "cell_type": "code",
   "execution_count": 12,
   "id": "407677cf",
   "metadata": {},
   "outputs": [],
   "source": [
    "lr = 0.01\n",
    "# Maximum number of epochs\n",
    "num_epochs = 100\n",
    "\n",
    "#fixed number of batches\n",
    "batch_size = 7"
   ]
  },
  {
   "cell_type": "code",
   "execution_count": 13,
   "id": "fc9f812c",
   "metadata": {
    "scrolled": true
   },
   "outputs": [
    {
     "name": "stdout",
     "output_type": "stream",
     "text": [
      "Model: \"sequential\"\n",
      "_________________________________________________________________\n",
      " Layer (type)                Output Shape              Param #   \n",
      "=================================================================\n",
      " time_distributed (TimeDistr  (None, None, 5, 16)      432       \n",
      " ibuted)                                                         \n",
      "                                                                 \n",
      " time_distributed_1 (TimeDis  (None, None, 2, 16)      0         \n",
      " tributed)                                                       \n",
      "                                                                 \n",
      " time_distributed_2 (TimeDis  (None, None, 32)         0         \n",
      " tributed)                                                       \n",
      "                                                                 \n",
      " bidirectional (Bidirectiona  (None, 32)               6272      \n",
      " l)                                                              \n",
      "                                                                 \n",
      " dense (Dense)               (None, 1)                 33        \n",
      "                                                                 \n",
      "=================================================================\n",
      "Total params: 6,737\n",
      "Trainable params: 6,737\n",
      "Non-trainable params: 0\n",
      "_________________________________________________________________\n"
     ]
    }
   ],
   "source": [
    "# Define the model\n",
    "model = design_model(n_steps, lr, n_features)\n",
    "model.summary()"
   ]
  },
  {
   "cell_type": "markdown",
   "id": "0c28e233",
   "metadata": {},
   "source": [
    "# Training the model"
   ]
  },
  {
   "cell_type": "code",
   "execution_count": 14,
   "id": "5e448cce",
   "metadata": {
    "scrolled": false
   },
   "outputs": [
    {
     "name": "stdout",
     "output_type": "stream",
     "text": [
      "Elapsed time is 144.185413 seconds.\n"
     ]
    },
    {
     "data": {
      "image/png": "[encoded data removed]",
      "text/plain": [
       "<Figure size 576x360 with 2 Axes>"
      ]
     },
     "metadata": {
      "needs_background": "light"
     },
     "output_type": "display_data"
    },
    {
     "name": "stdout",
     "output_type": "stream",
     "text": [
      "Min training Loss: 102.66911315917969\n",
      "Min validation Loss:  98.31220245361328\n",
      "\n",
      "Final training Loss: 108.6603012084961\n",
      "Final validation Loss: 117.7819595336914\n",
      "\n",
      "Min training MAE: 7.184873580932617\n",
      "Min validation MAE:  7.164126873016357\n",
      "\n",
      "Final training MAE: 7.593988418579102\n",
      "Final validation MAE: 7.658023357391357\n"
     ]
    }
   ],
   "source": [
    "# Train\n",
    "#Training with early stopping\n",
    "\n",
    "t.tic() #Start timer\n",
    "history = fit_model_es_checkpoint(X_train, y_train, lr, num_epochs, batch_size, model)\n",
    "t.toc() #Time elapsed since t.tic()\n",
    "\n",
    "# Visualization\n",
    "train_val_plot(history)"
   ]
  },
  {
   "cell_type": "markdown",
   "id": "c530e114",
   "metadata": {},
   "source": [
    "# Testing the model\n",
    "As long as two models share the same architecture you can share weights between them. So, when restoring a model from weights-only, create a model with the same architecture as the original model and then set its weights."
   ]
  },
  {
   "cell_type": "code",
   "execution_count": 15,
   "id": "01239337",
   "metadata": {},
   "outputs": [
    {
     "name": "stdout",
     "output_type": "stream",
     "text": [
      "Model: \"sequential_1\"\n",
      "_________________________________________________________________\n",
      " Layer (type)                Output Shape              Param #   \n",
      "=================================================================\n",
      " time_distributed_3 (TimeDis  (None, None, 5, 16)      432       \n",
      " tributed)                                                       \n",
      "                                                                 \n",
      " time_distributed_4 (TimeDis  (None, None, 2, 16)      0         \n",
      " tributed)                                                       \n",
      "                                                                 \n",
      " time_distributed_5 (TimeDis  (None, None, 32)         0         \n",
      " tributed)                                                       \n",
      "                                                                 \n",
      " bidirectional_1 (Bidirectio  (None, 32)               6272      \n",
      " nal)                                                            \n",
      "                                                                 \n",
      " dense_1 (Dense)             (None, 1)                 33        \n",
      "                                                                 \n",
      "=================================================================\n",
      "Total params: 6,737\n",
      "Trainable params: 6,737\n",
      "Non-trainable params: 0\n",
      "_________________________________________________________________\n"
     ]
    }
   ],
   "source": [
    "# Define the model\n",
    "model = design_model(n_steps, lr, n_features)\n",
    "model.summary()"
   ]
  },
  {
   "cell_type": "code",
   "execution_count": 16,
   "id": "679c120c",
   "metadata": {},
   "outputs": [],
   "source": [
    "folder_models = \"Trained_Models\"\n",
    "file_path = str(os.getcwd()) + \"/\" + folder_models \n",
    "file_pre = \"/U_Weights_Multi-Hybrid-CNN-LSTM*\"\n",
    "\n",
    "weights_files = list(glob.glob(file_path + file_pre))\n",
    "weights_files.sort()\n",
    "\n",
    "weights_files = [f[len(file_path)+1:] for f in weights_files]"
   ]
  },
  {
   "cell_type": "code",
   "execution_count": 21,
   "id": "b8734628",
   "metadata": {},
   "outputs": [
    {
     "name": "stdout",
     "output_type": "stream",
     "text": [
      "Loaded file: U_Weights_Multi-Hybrid-CNN-LSTM_-101.20217--032.hdf5\n"
     ]
    }
   ],
   "source": [
    "print(\"Loaded file:\", weights_files[0])\n",
    "\n",
    "# Choosing the best checkpoint (lowest error)\n",
    "weights_file = \"Trained_Models/U_Weights_Multi-Hybrid-CNN-LSTM_-101.20217--032.hdf5\" # folder_models + \"/\" + weights_files[0] \n",
    "\n",
    "# Loading it\n",
    "model.load_weights(weights_file)     "
   ]
  },
  {
   "cell_type": "code",
   "execution_count": 22,
   "id": "e2a9ca1b",
   "metadata": {},
   "outputs": [
    {
     "data": {
      "text/html": [
       "<div>\n",
       "<style scoped>\n",
       "    .dataframe tbody tr th:only-of-type {\n",
       "        vertical-align: middle;\n",
       "    }\n",
       "\n",
       "    .dataframe tbody tr th {\n",
       "        vertical-align: top;\n",
       "    }\n",
       "\n",
       "    .dataframe thead th {\n",
       "        text-align: right;\n",
       "    }\n",
       "</style>\n",
       "<table border=\"1\" class=\"dataframe\">\n",
       "  <thead>\n",
       "    <tr style=\"text-align: right;\">\n",
       "      <th></th>\n",
       "      <th>Model</th>\n",
       "      <th>RMSE</th>\n",
       "      <th>MAE</th>\n",
       "      <th>MAPE</th>\n",
       "      <th>R^2</th>\n",
       "      <th>Max Error</th>\n",
       "    </tr>\n",
       "  </thead>\n",
       "  <tbody>\n",
       "    <tr>\n",
       "      <th>0</th>\n",
       "      <td>Multi Hybrid CNN Bi LSTM</td>\n",
       "      <td>17.084931</td>\n",
       "      <td>12.30743</td>\n",
       "      <td>3.959984e+15</td>\n",
       "      <td>0.02666</td>\n",
       "      <td>88.859222</td>\n",
       "    </tr>\n",
       "  </tbody>\n",
       "</table>\n",
       "</div>"
      ],
      "text/plain": [
       "                      Model       RMSE       MAE          MAPE      R^2  \\\n",
       "0  Multi Hybrid CNN Bi LSTM  17.084931  12.30743  3.959984e+15  0.02666   \n",
       "\n",
       "   Max Error  \n",
       "0  88.859222  "
      ]
     },
     "execution_count": 22,
     "metadata": {},
     "output_type": "execute_result"
    }
   ],
   "source": [
    "tmp_df = pd.DataFrame(testing_evaluation(X_test, y_test, model), index=[0])\n",
    "tmp_df.insert(0, \"Model\", name_prefix.replace(\"-\", \" \"), True)\n",
    "tmp_df"
   ]
  },
  {
   "cell_type": "markdown",
   "id": "6d362559",
   "metadata": {},
   "source": [
    "# Sources\n",
    "* https://www.tensorflow.org/api_docs/python/tf/keras/Model#fit\n",
    "* https://www.tensorflow.org/tutorials/keras/save_and_load"
   ]
  }
 ],
 "metadata": {
  "kernelspec": {
   "display_name": "Python 3 (ipykernel)",
   "language": "python",
   "name": "python3"
  },
  "language_info": {
   "codemirror_mode": {
    "name": "ipython",
    "version": 3
   },
   "file_extension": ".py",
   "mimetype": "text/x-python",
   "name": "python",
   "nbconvert_exporter": "python",
   "pygments_lexer": "ipython3",
   "version": "3.8.12"
  }
 },
 "nbformat": 4,
 "nbformat_minor": 5
}
