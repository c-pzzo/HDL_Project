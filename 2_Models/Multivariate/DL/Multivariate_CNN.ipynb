{
 "cells": [
  {
   "cell_type": "markdown",
   "id": "52b1b084",
   "metadata": {},
   "source": [
    "# About\n",
    "[Purpose for this notebook]\n",
    "\n",
    "Bi-LSTMs are a type of RNNs, and as such, have memory which can store temporal information available in time series data. "
   ]
  },
  {
   "cell_type": "markdown",
   "id": "78ee9ffc",
   "metadata": {},
   "source": [
    "# LSTM"
   ]
  },
  {
   "cell_type": "markdown",
   "id": "44a4ebfd",
   "metadata": {},
   "source": [
    "# Global Parameters"
   ]
  },
  {
   "cell_type": "code",
   "execution_count": 1,
   "id": "a6f5e65c",
   "metadata": {},
   "outputs": [],
   "source": [
    "name_prefix = \"Multivariate-CNN\""
   ]
  },
  {
   "cell_type": "markdown",
   "id": "1922a89a",
   "metadata": {},
   "source": [
    "# Libraries"
   ]
  },
  {
   "cell_type": "code",
   "execution_count": 2,
   "id": "63be94ad",
   "metadata": {},
   "outputs": [],
   "source": [
    "%run \"/home/cesar/Python_NBs/HDL_Project/HDL_Project/global_fv.ipynb\""
   ]
  },
  {
   "cell_type": "code",
   "execution_count": 3,
   "id": "13426876",
   "metadata": {},
   "outputs": [],
   "source": [
    "import os\n",
    "import glob\n",
    "os.environ['TF_CPP_MIN_LOG_LEVEL'] = '2'\n",
    "\n",
    "# Data\n",
    "from sklearn.model_selection import train_test_split\n",
    "\n",
    "# DL Model\n",
    "from keras.models import Sequential\n",
    "from tensorflow.keras.layers import Conv1D, Flatten, Dense\n",
    "from keras.layers.convolutional import MaxPooling1D\n",
    "\n",
    "# Optimizer\n",
    "from tensorflow.keras.optimizers import Adam\n",
    "\n",
    "# Plotting\n",
    "import matplotlib.pyplot as plt\n",
    "\n",
    "# Early stopping\n",
    "from tensorflow.keras.callbacks import EarlyStopping\n",
    "\n",
    "# Checkpoint\n",
    "from keras.callbacks import ModelCheckpoint"
   ]
  },
  {
   "cell_type": "markdown",
   "id": "836ef767",
   "metadata": {},
   "source": [
    "# User-Defined Functions"
   ]
  },
  {
   "cell_type": "code",
   "execution_count": 4,
   "id": "e6cd7a75",
   "metadata": {},
   "outputs": [],
   "source": [
    "def design_model(n_steps, lr, n_features):\n",
    "    \"\"\"\n",
    "    n_steps: Number of steps\n",
    "    n_features: Number of features\n",
    "    lr: Learning rate\n",
    "    \"\"\"\n",
    "    model = Sequential(name = \"Multivariate-CNN-model\")\n",
    "    \n",
    "    # Number of neurons (nodes) are just about greater than the number of features.\n",
    "    # Rule of thumb is for number of neurons to be about 2/3 of the input    \n",
    "    num_neurons = 8 #int(np.ceil(n_features *2 /3))\n",
    "    \n",
    "    # CNN Layer\n",
    "    model.add(Conv1D(num_neurons, 1, activation='relu', input_shape=(n_steps, n_features)))\n",
    "    model.add(MaxPooling1D())\n",
    "    model.add(Flatten())    \n",
    "    \n",
    "    # Output layer with one neuron to a model instance (to return one output)\n",
    "    model.add(Dense(1, kernel_initializer='normal',activation='linear'))\n",
    "    \n",
    "    # Regularization prevents the learning process to completely fit the model to the training data which can lead to overfitting.\n",
    "    # The most common regularization method is dropout.\n",
    "    #model.add(layers.Dropout(0.1))    \n",
    "    \n",
    "    # Optimizer\n",
    "    opt = Adam(learning_rate=lr)\n",
    "    model.compile(optimizer=opt,  metrics=['mae'], loss= 'mse')\n",
    "    \n",
    "    return model"
   ]
  },
  {
   "cell_type": "code",
   "execution_count": 5,
   "id": "09fee2aa",
   "metadata": {},
   "outputs": [],
   "source": [
    "def fit_model_es_checkpoint(X, y, learning_rate, num_epochs, bs, model):\n",
    "    checkpoint_name = 'Trained_Models/U_Weights_Multivariate-CNN_-{val_loss:.5f}--{epoch:03d}.hdf5'\n",
    "    \n",
    "    early_stopping_callback = EarlyStopping(monitor='val_loss', mode='min', verbose=0, patience=20)\n",
    "    checkpoint_callback = ModelCheckpoint(checkpoint_name, monitor='val_loss', verbose=0, save_best_only=True, mode='min')\n",
    "    history = model.fit(X, y, epochs=num_epochs, batch_size=bs, validation_split = 0.25, verbose = 0, shuffle = False, callbacks=[early_stopping_callback, checkpoint_callback])\n",
    "    return history"
   ]
  },
  {
   "cell_type": "markdown",
   "id": "bf8adc5b",
   "metadata": {},
   "source": [
    "# Data"
   ]
  },
  {
   "cell_type": "markdown",
   "id": "dd31a6e3",
   "metadata": {},
   "source": [
    "## Parameters"
   ]
  },
  {
   "cell_type": "code",
   "execution_count": 6,
   "id": "0407d916",
   "metadata": {},
   "outputs": [],
   "source": [
    "sql_table = \"sima_station_CE\"\n",
    "target = \"pm25\"\n",
    "\n",
    "# Define columns of interest from sql table\n",
    "#     Select all columns:\n",
    "column = \"*\"\n",
    "#     Select specific columns:\n",
    "#column = \"datetime, prs, rainf, rh, sr, tout, wdr, wsr, \" + str(target)\n",
    "\n",
    "# Filter data with WHERE command\n",
    "sql_where = \"where datetime >= \\'2021-03-01\\'\"\n",
    "\n",
    "# Number of time steps per sample\n",
    "n_steps = 24"
   ]
  },
  {
   "cell_type": "markdown",
   "id": "7d44c04c",
   "metadata": {},
   "source": [
    "## Creating samples"
   ]
  },
  {
   "cell_type": "code",
   "execution_count": 7,
   "id": "b4ee28f5",
   "metadata": {},
   "outputs": [
    {
     "name": "stdout",
     "output_type": "stream",
     "text": [
      "(9889, 24, 13)\n",
      "\n",
      "* The 1st dimension is the number of samples, in this case: 9889\n",
      "* The 2nd dimension is the number of time steps per sample, in this case 24, the value specified to the function.\n",
      "* The 3rd dimension specifies the number of parallel time series —or the number of variables— in this case 13.\n"
     ]
    }
   ],
   "source": [
    "# Initialize class to create multivariate samples:\n",
    "multi_ts = multivariate_samples(sql_table, target, column, sql_where)\n",
    "\n",
    "X, y = multi_ts.samples_creation(n_steps, target)\n",
    "X = np.asarray(X)\n",
    "y = np.asarray(y)\n",
    "\n",
    "# Understanding the three-dimensional structure of the input samples\n",
    "print(np.shape(X))\n",
    "print()\n",
    "print(\"* The 1st dimension is the number of samples, in this case: {}\".format(np.shape(X)[0])) \n",
    "print(\"* The 2nd dimension is the number of time steps per sample, in this case {}, the value specified to the function.\".format(np.shape(X)[1]))\n",
    "print(\"* The 3rd dimension specifies the number of parallel time series —or the number of variables— in this case {}.\".format(np.shape(X)[2]))"
   ]
  },
  {
   "cell_type": "code",
   "execution_count": 8,
   "id": "a23c4d80",
   "metadata": {},
   "outputs": [],
   "source": [
    "# Number of features\n",
    "n_features = np.shape(X)[2]"
   ]
  },
  {
   "cell_type": "code",
   "execution_count": 9,
   "id": "dade92ea",
   "metadata": {},
   "outputs": [],
   "source": [
    "X_train, X_test, y_train, y_test = train_test_split(X, y, test_size = 0.30, shuffle= False)"
   ]
  },
  {
   "cell_type": "markdown",
   "id": "e3e591e7",
   "metadata": {},
   "source": [
    "# Data model: CNN"
   ]
  },
  {
   "cell_type": "code",
   "execution_count": 10,
   "id": "01e84f5b",
   "metadata": {},
   "outputs": [],
   "source": [
    "learning_rate = 0.01\n",
    "\n",
    "# Maximum number of epochs\n",
    "num_epochs = 100\n",
    "\n",
    "#fixed learning rate value\n",
    "learning_rate = 0.01\n",
    "\n",
    "#fixed number of batches\n",
    "batch_size = 7"
   ]
  },
  {
   "cell_type": "code",
   "execution_count": 11,
   "id": "72f16cfd",
   "metadata": {
    "scrolled": true
   },
   "outputs": [
    {
     "name": "stdout",
     "output_type": "stream",
     "text": [
      "Model: \"Multivariate-CNN-model\"\n",
      "_________________________________________________________________\n",
      " Layer (type)                Output Shape              Param #   \n",
      "=================================================================\n",
      " conv1d (Conv1D)             (None, 24, 8)             112       \n",
      "                                                                 \n",
      " max_pooling1d (MaxPooling1D  (None, 12, 8)            0         \n",
      " )                                                               \n",
      "                                                                 \n",
      " flatten (Flatten)           (None, 96)                0         \n",
      "                                                                 \n",
      " dense (Dense)               (None, 1)                 97        \n",
      "                                                                 \n",
      "=================================================================\n",
      "Total params: 209\n",
      "Trainable params: 209\n",
      "Non-trainable params: 0\n",
      "_________________________________________________________________\n"
     ]
    }
   ],
   "source": [
    "model = design_model(n_steps, learning_rate, n_features)\n",
    "model.summary()"
   ]
  },
  {
   "cell_type": "code",
   "execution_count": 12,
   "id": "65a3aaf2",
   "metadata": {
    "scrolled": false
   },
   "outputs": [
    {
     "name": "stdout",
     "output_type": "stream",
     "text": [
      "Elapsed time is 18.485180 seconds.\n"
     ]
    },
    {
     "data": {
      "image/png": "[encoded data removed]",
      "text/plain": [
       "<Figure size 576x360 with 2 Axes>"
      ]
     },
     "metadata": {
      "needs_background": "light"
     },
     "output_type": "display_data"
    },
    {
     "name": "stdout",
     "output_type": "stream",
     "text": [
      "Min training Loss: 99.77973175048828\n",
      "Min validation Loss:  84.59149932861328\n",
      "\n",
      "Final training Loss: 99.77973175048828\n",
      "Final validation Loss: 109.53189849853516\n",
      "\n",
      "Min training MAE: 7.133835792541504\n",
      "Min validation MAE:  6.598679065704346\n",
      "\n",
      "Final training MAE: 7.146361351013184\n",
      "Final validation MAE: 7.262956619262695\n"
     ]
    }
   ],
   "source": [
    "# Train\n",
    "#Training with early stopping\n",
    "\n",
    "t.tic() #Start timer\n",
    "history = fit_model_es_checkpoint(X_train, y_train, learning_rate, num_epochs, batch_size, model)\n",
    "t.toc() #Time elapsed since t.tic()\n",
    "\n",
    "# Visualization\n",
    "train_val_plot(history)"
   ]
  },
  {
   "cell_type": "markdown",
   "id": "2f27873b",
   "metadata": {},
   "source": [
    "# Testing the model\n",
    "As long as two models share the same architecture you can share weights between them. So, when restoring a model from weights-only, create a model with the same architecture as the original model and then set its weights."
   ]
  },
  {
   "cell_type": "code",
   "execution_count": 18,
   "id": "a10007e0",
   "metadata": {},
   "outputs": [
    {
     "name": "stdout",
     "output_type": "stream",
     "text": [
      "Model: \"Multivariate-CNN-model\"\n",
      "_________________________________________________________________\n",
      " Layer (type)                Output Shape              Param #   \n",
      "=================================================================\n",
      " conv1d_2 (Conv1D)           (None, 24, 8)             112       \n",
      "                                                                 \n",
      " max_pooling1d_2 (MaxPooling  (None, 12, 8)            0         \n",
      " 1D)                                                             \n",
      "                                                                 \n",
      " flatten_2 (Flatten)         (None, 96)                0         \n",
      "                                                                 \n",
      " dense_2 (Dense)             (None, 1)                 97        \n",
      "                                                                 \n",
      "=================================================================\n",
      "Total params: 209\n",
      "Trainable params: 209\n",
      "Non-trainable params: 0\n",
      "_________________________________________________________________\n"
     ]
    }
   ],
   "source": [
    "# Define the model\n",
    "model = design_model(n_steps, learning_rate, n_features)\n",
    "model.summary()"
   ]
  },
  {
   "cell_type": "code",
   "execution_count": 19,
   "id": "986d037a",
   "metadata": {},
   "outputs": [],
   "source": [
    "folder_models = \"Trained_Models\"\n",
    "file_path = str(os.getcwd()) + \"/\" + folder_models \n",
    "file_pre = \"/U_Weights_{}*\".format(name_prefix)\n",
    "\n",
    "weights_files = list(glob.glob(file_path + file_pre))\n",
    "weights_files.sort()\n",
    "\n",
    "weights_files = [f[len(file_path)+1:] for f in weights_files]"
   ]
  },
  {
   "cell_type": "code",
   "execution_count": 20,
   "id": "fdbe9cd4",
   "metadata": {},
   "outputs": [
    {
     "data": {
      "text/plain": [
       "'Trained_Models/U_Weights_Multivariate-CNN_-109.26953--003.hdf5'"
      ]
     },
     "execution_count": 20,
     "metadata": {},
     "output_type": "execute_result"
    }
   ],
   "source": [
    "folder_models + \"/\" + weights_files[0]"
   ]
  },
  {
   "cell_type": "code",
   "execution_count": 21,
   "id": "9c7974a0",
   "metadata": {},
   "outputs": [
    {
     "name": "stdout",
     "output_type": "stream",
     "text": [
      "Loaded file: U_Weights_Multivariate-CNN_-109.26953--003.hdf5\n"
     ]
    }
   ],
   "source": [
    "print(\"Loaded file:\", weights_files[0])\n",
    "\n",
    "# Choosing the best checkpoint (lowest error)\n",
    "weights_file = \"Trained_Models/U_Weights_Multivariate-CNN_-84.59150--006.hdf5\" # folder_models + \"/\" + weights_files[0] \n",
    "\n",
    "# Loading it\n",
    "model.load_weights(weights_file) "
   ]
  },
  {
   "cell_type": "code",
   "execution_count": 22,
   "id": "a7bdd9d5",
   "metadata": {},
   "outputs": [
    {
     "data": {
      "text/html": [
       "<div>\n",
       "<style scoped>\n",
       "    .dataframe tbody tr th:only-of-type {\n",
       "        vertical-align: middle;\n",
       "    }\n",
       "\n",
       "    .dataframe tbody tr th {\n",
       "        vertical-align: top;\n",
       "    }\n",
       "\n",
       "    .dataframe thead th {\n",
       "        text-align: right;\n",
       "    }\n",
       "</style>\n",
       "<table border=\"1\" class=\"dataframe\">\n",
       "  <thead>\n",
       "    <tr style=\"text-align: right;\">\n",
       "      <th></th>\n",
       "      <th>Model</th>\n",
       "      <th>RMSE</th>\n",
       "      <th>MAE</th>\n",
       "      <th>MAPE</th>\n",
       "      <th>R^2</th>\n",
       "      <th>Max Error</th>\n",
       "    </tr>\n",
       "  </thead>\n",
       "  <tbody>\n",
       "    <tr>\n",
       "      <th>0</th>\n",
       "      <td>Multivariate CNN</td>\n",
       "      <td>16.062794</td>\n",
       "      <td>11.607689</td>\n",
       "      <td>3.823807e+15</td>\n",
       "      <td>0.13964</td>\n",
       "      <td>88.731783</td>\n",
       "    </tr>\n",
       "  </tbody>\n",
       "</table>\n",
       "</div>"
      ],
      "text/plain": [
       "              Model       RMSE        MAE          MAPE      R^2  Max Error\n",
       "0  Multivariate CNN  16.062794  11.607689  3.823807e+15  0.13964  88.731783"
      ]
     },
     "execution_count": 22,
     "metadata": {},
     "output_type": "execute_result"
    }
   ],
   "source": [
    "tmp_df = pd.DataFrame(testing_evaluation(X_test, y_test, model), index=[0])\n",
    "tmp_df.insert(0, \"Model\", name_prefix.replace(\"-\", \" \"), True)\n",
    "tmp_df"
   ]
  },
  {
   "cell_type": "markdown",
   "id": "90a60278",
   "metadata": {},
   "source": [
    "# Sources\n",
    "* https://www.tensorflow.org/api_docs/python/tf/keras/Model#fit\n",
    "* https://www.tensorflow.org/tutorials/keras/save_and_load"
   ]
  }
 ],
 "metadata": {
  "kernelspec": {
   "display_name": "Python 3 (ipykernel)",
   "language": "python",
   "name": "python3"
  },
  "language_info": {
   "codemirror_mode": {
    "name": "ipython",
    "version": 3
   },
   "file_extension": ".py",
   "mimetype": "text/x-python",
   "name": "python",
   "nbconvert_exporter": "python",
   "pygments_lexer": "ipython3",
   "version": "3.8.12"
  }
 },
 "nbformat": 4,
 "nbformat_minor": 5
}
