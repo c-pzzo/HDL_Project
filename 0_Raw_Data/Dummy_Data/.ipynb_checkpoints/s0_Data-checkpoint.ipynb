{
 "cells": [
  {
   "cell_type": "markdown",
   "id": "4230ec72",
   "metadata": {},
   "source": [
    "# About\n",
    "Processing environmental data"
   ]
  },
  {
   "cell_type": "markdown",
   "id": "31442eae",
   "metadata": {},
   "source": [
    "# Libraries"
   ]
  },
  {
   "cell_type": "code",
   "execution_count": 1,
   "id": "d5e44351",
   "metadata": {},
   "outputs": [],
   "source": [
    "import json\n",
    "import pandas as pd\n",
    "import glob"
   ]
  },
  {
   "cell_type": "markdown",
   "id": "9b54d4da",
   "metadata": {},
   "source": [
    "# Data"
   ]
  },
  {
   "cell_type": "markdown",
   "id": "8b731dc4",
   "metadata": {},
   "source": [
    "The data returned will have the following units:\n",
    "\n",
    "|Columns|Description|\n",
    "|---\t|---\t|\n",
    "|created|Data point creation date|\n",
    "|date   |Measurement time|\n",
    "|station|Meteorological station number|\n",
    "|pressure|Surface Pressure (hPa)|\n",
    "|temp|Temperature (K)|\n",
    "|precipitation|Precipitation (mm)|\n",
    "|wind|Wind (ms^-1)|\n",
    "|gas|Including O3, NO2, PM2.5 (ug/m3)|"
   ]
  },
  {
   "cell_type": "code",
   "execution_count": 2,
   "id": "00d63b66",
   "metadata": {
    "scrolled": false
   },
   "outputs": [],
   "source": [
    "station_number = 's32'\n",
    "files_list = list(glob.iglob('{}*.json'.format(station_number)))\n",
    "\n",
    "f = open(files_list[0])\n",
    "raw_data = json.load(f)\n",
    "\n",
    "if len(files_list) > 1:\n",
    "    for i in files_list[1:]:\n",
    "        tmp = json.load(open(i))\n",
    "        raw_data.extend(tmp)\n",
    "\n",
    "col_names = list(raw_data[0].keys())\n",
    "\n",
    "df = pd.DataFrame(raw_data, columns=col_names)"
   ]
  },
  {
   "cell_type": "markdown",
   "id": "ce0dbb7d",
   "metadata": {},
   "source": [
    "# User-Defined Functions"
   ]
  },
  {
   "cell_type": "code",
   "execution_count": 39,
   "id": "d0223dda",
   "metadata": {},
   "outputs": [],
   "source": [
    "class data_processing(object):\n",
    "    \"\"\"\n",
    "    To-Do\n",
    "    - Drop column `created` \n",
    "    - Format column `date`\n",
    "    - Split wind into two columns\n",
    "    - Split gas into multiple columns (one for each gas)\n",
    "    \"\"\"\n",
    "\n",
    "    def __init__(self, df):\n",
    "        \"\"\"\n",
    "        df: Raw dataset\n",
    "        \"\"\"\n",
    "        self.df = df\n",
    "\n",
    "    # Processing `created` column\n",
    "    def process_created_col(self):\n",
    "        return self.df.drop(\"created\", axis = 1)\n",
    "\n",
    "\n",
    "    # Processing `date` column\n",
    "    def process_date_col(self):\n",
    "        df = self.process_created_col()\n",
    "        # Split rows into two columns by string \"T\"\n",
    "        tmp_date = df[\"date\"].str.split(\"T\", n = 2, expand = True)\n",
    "        # Split rows of second column into two columns by string \"Z\"\n",
    "        tmp_time = tmp_date[1].str.split(\"Z\", n = 0, expand = True)\n",
    "        df[\"day\"] = tmp_date[0]\n",
    "        df[\"time\"] = tmp_time[0]\n",
    "        df = df.drop(\"date\", axis = 1)\n",
    "        return df[['day', 'time', 'station', 'pressure', 'temp', 'precip', 'wind', 'gas']]\n",
    "\n",
    "    # Processing `wind` column\n",
    "    def process_wind_col(self):\n",
    "        df = self.process_date_col()\n",
    "        # Split arrays in dataframe column \"wind\" into two columns\n",
    "        tmp_wind = pd.DataFrame(df[\"wind\"].to_list(), columns=['c0','c1'])\n",
    "        df[\"wind_northward\"] = tmp_wind[\"c0\"]\n",
    "        df['wind_eastward'] = tmp_wind[\"c1\"]\n",
    "        return df[['day', 'time', 'station', 'pressure', 'temp', 'precip', 'wind_northward', 'wind_eastward', 'gas']]\n",
    "\n",
    "\n",
    "    # Processing `gas` column\n",
    "    def process_gas_col(self):\n",
    "        df = self.process_wind_col()\n",
    "        \n",
    "        gas_cols = list(df[\"gas\"])\n",
    "        # Split dictionary values in column \"gas\" into three columns\n",
    "        tmp_gas = pd.DataFrame(gas_cols, columns=[\"o3\", \"no2\", \"pm25_gcc\"])\n",
    "        df[\"O3\"] = tmp_gas[\"o3\"]\n",
    "        df[\"NO2\"] = tmp_gas[\"no2\"]\n",
    "        df[\"PM25\"] = tmp_gas[\"pm25_gcc\"]\n",
    "        return df[['day', 'time', 'station', 'pressure', 'temp', 'precip', 'wind_northward', 'wind_eastward', 'O3', 'NO2', 'PM25']]\n",
    "    \n",
    "    def data_formatting(self):\n",
    "        df = self.process_gas_col()\n",
    "        \n",
    "        df['day'] = pd.to_datetime(df['day'], format='%Y-%m-%d')\n",
    "        df['time'] = pd.to_datetime(df['time'], format='%H:%M:%S.%f')\n",
    "        df['station'] = pd.to_numeric(processed_df[\"station\"], downcast='integer')\n",
    "        df['pressure'] = pd.to_numeric(processed_df[\"pressure\"], downcast='float')\n",
    "        df['temp'] = pd.to_numeric(processed_df[\"temp\"], downcast='float')\n",
    "        df['precip'] = pd.to_numeric(processed_df[\"precip\"], downcast='float')\n",
    "        df['wind_northward'] = pd.to_numeric(processed_df[\"wind_northward\"], downcast='float')\n",
    "        df['wind_eastward'] = pd.to_numeric(processed_df[\"wind_eastward\"], downcast='float')\n",
    "        df['O3'] = pd.to_numeric(processed_df[\"O3\"], downcast='float')\n",
    "        df['NO2'] = pd.to_numeric(processed_df[\"NO2\"], downcast='float')\n",
    "        df['PM25'] = pd.to_numeric(processed_df[\"PM25\"], downcast='float')\n",
    "        \n",
    "        return df"
   ]
  },
  {
   "cell_type": "code",
   "execution_count": 40,
   "id": "89561ceb",
   "metadata": {},
   "outputs": [
    {
     "data": {
      "text/html": [
       "<div>\n",
       "<style scoped>\n",
       "    .dataframe tbody tr th:only-of-type {\n",
       "        vertical-align: middle;\n",
       "    }\n",
       "\n",
       "    .dataframe tbody tr th {\n",
       "        vertical-align: top;\n",
       "    }\n",
       "\n",
       "    .dataframe thead th {\n",
       "        text-align: right;\n",
       "    }\n",
       "</style>\n",
       "<table border=\"1\" class=\"dataframe\">\n",
       "  <thead>\n",
       "    <tr style=\"text-align: right;\">\n",
       "      <th></th>\n",
       "      <th>day</th>\n",
       "      <th>time</th>\n",
       "      <th>station</th>\n",
       "      <th>pressure</th>\n",
       "      <th>temp</th>\n",
       "      <th>precip</th>\n",
       "      <th>wind_northward</th>\n",
       "      <th>wind_eastward</th>\n",
       "      <th>O3</th>\n",
       "      <th>NO2</th>\n",
       "      <th>PM25</th>\n",
       "    </tr>\n",
       "  </thead>\n",
       "  <tbody>\n",
       "    <tr>\n",
       "      <th>0</th>\n",
       "      <td>2022-01-15</td>\n",
       "      <td>1900-01-01 12:00:00</td>\n",
       "      <td>32</td>\n",
       "      <td>929.494690</td>\n",
       "      <td>286.240906</td>\n",
       "      <td>0.0</td>\n",
       "      <td>2.5580</td>\n",
       "      <td>-3.1019</td>\n",
       "      <td>56.580799</td>\n",
       "      <td>16.778799</td>\n",
       "      <td>16.9466</td>\n",
       "    </tr>\n",
       "    <tr>\n",
       "      <th>1</th>\n",
       "      <td>2022-01-15</td>\n",
       "      <td>1900-01-01 13:00:00</td>\n",
       "      <td>32</td>\n",
       "      <td>930.693726</td>\n",
       "      <td>285.115112</td>\n",
       "      <td>0.0</td>\n",
       "      <td>2.6061</td>\n",
       "      <td>-3.1377</td>\n",
       "      <td>46.179600</td>\n",
       "      <td>11.753500</td>\n",
       "      <td>15.4532</td>\n",
       "    </tr>\n",
       "    <tr>\n",
       "      <th>2</th>\n",
       "      <td>2022-01-15</td>\n",
       "      <td>1900-01-01 14:00:00</td>\n",
       "      <td>32</td>\n",
       "      <td>932.097778</td>\n",
       "      <td>286.022491</td>\n",
       "      <td>0.0</td>\n",
       "      <td>3.2427</td>\n",
       "      <td>-4.0089</td>\n",
       "      <td>36.365200</td>\n",
       "      <td>21.883301</td>\n",
       "      <td>9.5109</td>\n",
       "    </tr>\n",
       "    <tr>\n",
       "      <th>3</th>\n",
       "      <td>2022-01-15</td>\n",
       "      <td>1900-01-01 15:00:00</td>\n",
       "      <td>32</td>\n",
       "      <td>933.090393</td>\n",
       "      <td>286.560394</td>\n",
       "      <td>0.0</td>\n",
       "      <td>4.1802</td>\n",
       "      <td>-4.9703</td>\n",
       "      <td>36.229000</td>\n",
       "      <td>18.825600</td>\n",
       "      <td>9.1762</td>\n",
       "    </tr>\n",
       "    <tr>\n",
       "      <th>4</th>\n",
       "      <td>2022-01-15</td>\n",
       "      <td>1900-01-01 16:00:00</td>\n",
       "      <td>32</td>\n",
       "      <td>933.704895</td>\n",
       "      <td>287.038910</td>\n",
       "      <td>0.0</td>\n",
       "      <td>4.1854</td>\n",
       "      <td>-5.2742</td>\n",
       "      <td>40.741001</td>\n",
       "      <td>22.757099</td>\n",
       "      <td>9.2909</td>\n",
       "    </tr>\n",
       "  </tbody>\n",
       "</table>\n",
       "</div>"
      ],
      "text/plain": [
       "         day                time  station    pressure        temp  precip  \\\n",
       "0 2022-01-15 1900-01-01 12:00:00       32  929.494690  286.240906     0.0   \n",
       "1 2022-01-15 1900-01-01 13:00:00       32  930.693726  285.115112     0.0   \n",
       "2 2022-01-15 1900-01-01 14:00:00       32  932.097778  286.022491     0.0   \n",
       "3 2022-01-15 1900-01-01 15:00:00       32  933.090393  286.560394     0.0   \n",
       "4 2022-01-15 1900-01-01 16:00:00       32  933.704895  287.038910     0.0   \n",
       "\n",
       "   wind_northward  wind_eastward         O3        NO2     PM25  \n",
       "0          2.5580        -3.1019  56.580799  16.778799  16.9466  \n",
       "1          2.6061        -3.1377  46.179600  11.753500  15.4532  \n",
       "2          3.2427        -4.0089  36.365200  21.883301   9.5109  \n",
       "3          4.1802        -4.9703  36.229000  18.825600   9.1762  \n",
       "4          4.1854        -5.2742  40.741001  22.757099   9.2909  "
      ]
     },
     "execution_count": 40,
     "metadata": {},
     "output_type": "execute_result"
    }
   ],
   "source": [
    "# Initialization of processing class\n",
    "main_processed_df = data_processing(df)\n",
    "\n",
    "# Execution of processing functions\n",
    "processed_df = main_processed_df.data_formatting()\n",
    "\n",
    "# Overview\n",
    "processed_df.head()"
   ]
  },
  {
   "cell_type": "code",
   "execution_count": 45,
   "id": "4132e7d7",
   "metadata": {},
   "outputs": [
    {
     "data": {
      "text/plain": [
       "numpy.float32"
      ]
     },
     "execution_count": 45,
     "metadata": {},
     "output_type": "execute_result"
    }
   ],
   "source": [
    "type(processed_df[\"O3\"][0])"
   ]
  },
  {
   "cell_type": "markdown",
   "id": "ea939deb",
   "metadata": {},
   "source": [
    "# Relevant sources"
   ]
  },
  {
   "cell_type": "markdown",
   "id": "9b3dad95",
   "metadata": {},
   "source": [
    "* https://www.geeksforgeeks.org/read-json-file-using-python/\n",
    "* https://docs.python.org/3/library/datetime.html#strftime-and-strptime-behavior"
   ]
  }
 ],
 "metadata": {
  "kernelspec": {
   "display_name": "Python 3 (ipykernel)",
   "language": "python",
   "name": "python3"
  },
  "language_info": {
   "codemirror_mode": {
    "name": "ipython",
    "version": 3
   },
   "file_extension": ".py",
   "mimetype": "text/x-python",
   "name": "python",
   "nbconvert_exporter": "python",
   "pygments_lexer": "ipython3",
   "version": "3.8.12"
  }
 },
 "nbformat": 4,
 "nbformat_minor": 5
}
